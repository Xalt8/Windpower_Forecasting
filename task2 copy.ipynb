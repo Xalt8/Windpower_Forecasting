{
 "cells": [
  {
   "cell_type": "markdown",
   "metadata": {},
   "source": [
    "# Task-2: Wind Power Forecasting With Multiple Targets\n",
    "Author: Karan Singh"
   ]
  },
  {
   "cell_type": "code",
   "execution_count": 1,
   "metadata": {},
   "outputs": [],
   "source": [
    "import numpy as np\n",
    "import pandas as pd\n",
    "import random"
   ]
  },
  {
   "cell_type": "code",
   "execution_count": 2,
   "metadata": {},
   "outputs": [],
   "source": [
    "labels = pd.read_parquet(r'../Case_Interview_-_Multitarget_Power_Forecasting/Case Interview - Multitarget Power Forecasting/data/labels.parquet', engine='pyarrow')\n",
    "weather = pd.read_parquet(r'../Case_Interview_-_Multitarget_Power_Forecasting/Case Interview - Multitarget Power Forecasting/data/weather_forecast.parquet', engine='pyarrow')"
   ]
  },
  {
   "cell_type": "code",
   "execution_count": 3,
   "metadata": {},
   "outputs": [],
   "source": [
    "# Ensure that the labels are in 15 minute resolution\n",
    "labels_index = pd.date_range(start=labels.index.min(), end=labels.index.max(), freq='15min')\n",
    "labels.index = labels_index"
   ]
  },
  {
   "cell_type": "code",
   "execution_count": 4,
   "metadata": {},
   "outputs": [],
   "source": [
    "# Add features -> part of day & Month\n",
    "# Could temperature play a part? Is it cooler in the evenings/night?  \n",
    "# Can the months represent seasons?    \n",
    "\n",
    "conditions = [(0 <= labels.index.hour) & (labels.index.hour < 6), \n",
    "            (6 <= labels.index.hour) & (labels.index.hour < 12), \n",
    "            (12 <= labels.index.hour) & (labels.index.hour < 18), \n",
    "            (18 <= labels.index.hour) & (labels.index.hour < 24)]\n",
    "choices = [0, 1, 2, 3]\n",
    "labels['Day_part'] = np.select(condlist=conditions, choicelist=choices, default=np.nan)\n",
    "labels['Month'] = labels.index.month\n",
    "labels = labels[['Day_part', 'Month', 'power_1', 'power_2', 'power_3']]"
   ]
  },
  {
   "cell_type": "code",
   "execution_count": 5,
   "metadata": {},
   "outputs": [
    {
     "data": {
      "text/html": [
       "<div>\n",
       "<style scoped>\n",
       "    .dataframe tbody tr th:only-of-type {\n",
       "        vertical-align: middle;\n",
       "    }\n",
       "\n",
       "    .dataframe tbody tr th {\n",
       "        vertical-align: top;\n",
       "    }\n",
       "\n",
       "    .dataframe thead th {\n",
       "        text-align: right;\n",
       "    }\n",
       "</style>\n",
       "<table border=\"1\" class=\"dataframe\">\n",
       "  <thead>\n",
       "    <tr style=\"text-align: right;\">\n",
       "      <th></th>\n",
       "      <th>Day_part</th>\n",
       "      <th>Month</th>\n",
       "      <th>power_1</th>\n",
       "      <th>power_2</th>\n",
       "      <th>power_3</th>\n",
       "    </tr>\n",
       "  </thead>\n",
       "  <tbody>\n",
       "    <tr>\n",
       "      <th>2019-01-01 00:00:00</th>\n",
       "      <td>0.0</td>\n",
       "      <td>1</td>\n",
       "      <td>48637.0</td>\n",
       "      <td>51637.0</td>\n",
       "      <td>54637.0</td>\n",
       "    </tr>\n",
       "    <tr>\n",
       "      <th>2019-01-01 00:15:00</th>\n",
       "      <td>0.0</td>\n",
       "      <td>1</td>\n",
       "      <td>52357.0</td>\n",
       "      <td>55357.0</td>\n",
       "      <td>58357.0</td>\n",
       "    </tr>\n",
       "    <tr>\n",
       "      <th>2019-01-01 00:30:00</th>\n",
       "      <td>0.0</td>\n",
       "      <td>1</td>\n",
       "      <td>54317.0</td>\n",
       "      <td>57317.0</td>\n",
       "      <td>60317.0</td>\n",
       "    </tr>\n",
       "    <tr>\n",
       "      <th>2019-01-01 00:45:00</th>\n",
       "      <td>0.0</td>\n",
       "      <td>1</td>\n",
       "      <td>54220.5</td>\n",
       "      <td>57220.5</td>\n",
       "      <td>60220.5</td>\n",
       "    </tr>\n",
       "    <tr>\n",
       "      <th>2019-01-01 01:00:00</th>\n",
       "      <td>0.0</td>\n",
       "      <td>1</td>\n",
       "      <td>51680.0</td>\n",
       "      <td>54680.0</td>\n",
       "      <td>57680.0</td>\n",
       "    </tr>\n",
       "  </tbody>\n",
       "</table>\n",
       "</div>"
      ],
      "text/plain": [
       "                     Day_part  Month  power_1  power_2  power_3\n",
       "2019-01-01 00:00:00       0.0      1  48637.0  51637.0  54637.0\n",
       "2019-01-01 00:15:00       0.0      1  52357.0  55357.0  58357.0\n",
       "2019-01-01 00:30:00       0.0      1  54317.0  57317.0  60317.0\n",
       "2019-01-01 00:45:00       0.0      1  54220.5  57220.5  60220.5\n",
       "2019-01-01 01:00:00       0.0      1  51680.0  54680.0  57680.0"
      ]
     },
     "execution_count": 5,
     "metadata": {},
     "output_type": "execute_result"
    }
   ],
   "source": [
    "labels.head()"
   ]
  },
  {
   "cell_type": "code",
   "execution_count": 6,
   "metadata": {},
   "outputs": [
    {
     "data": {
      "text/html": [
       "<div>\n",
       "<style scoped>\n",
       "    .dataframe tbody tr th:only-of-type {\n",
       "        vertical-align: middle;\n",
       "    }\n",
       "\n",
       "    .dataframe tbody tr th {\n",
       "        vertical-align: top;\n",
       "    }\n",
       "\n",
       "    .dataframe thead th {\n",
       "        text-align: right;\n",
       "    }\n",
       "</style>\n",
       "<table border=\"1\" class=\"dataframe\">\n",
       "  <thead>\n",
       "    <tr style=\"text-align: right;\">\n",
       "      <th></th>\n",
       "      <th>Generation_Date</th>\n",
       "      <th>Forecast_Date</th>\n",
       "      <th>U</th>\n",
       "      <th>V</th>\n",
       "      <th>ws</th>\n",
       "      <th>Direction</th>\n",
       "    </tr>\n",
       "  </thead>\n",
       "  <tbody>\n",
       "    <tr>\n",
       "      <th>1</th>\n",
       "      <td>2019-06-25</td>\n",
       "      <td>2019-06-25 01:00:00</td>\n",
       "      <td>1.861707</td>\n",
       "      <td>0.195582</td>\n",
       "      <td>1.871952</td>\n",
       "      <td>264.002783</td>\n",
       "    </tr>\n",
       "    <tr>\n",
       "      <th>2</th>\n",
       "      <td>2019-06-25</td>\n",
       "      <td>2019-06-25 02:00:00</td>\n",
       "      <td>1.257695</td>\n",
       "      <td>0.570511</td>\n",
       "      <td>1.381043</td>\n",
       "      <td>245.600179</td>\n",
       "    </tr>\n",
       "    <tr>\n",
       "      <th>3</th>\n",
       "      <td>2019-06-25</td>\n",
       "      <td>2019-06-25 03:00:00</td>\n",
       "      <td>1.883554</td>\n",
       "      <td>0.701067</td>\n",
       "      <td>2.009794</td>\n",
       "      <td>249.584514</td>\n",
       "    </tr>\n",
       "    <tr>\n",
       "      <th>4</th>\n",
       "      <td>2019-06-25</td>\n",
       "      <td>2019-06-25 04:00:00</td>\n",
       "      <td>2.664914</td>\n",
       "      <td>0.169917</td>\n",
       "      <td>2.670325</td>\n",
       "      <td>266.351713</td>\n",
       "    </tr>\n",
       "    <tr>\n",
       "      <th>5</th>\n",
       "      <td>2019-06-25</td>\n",
       "      <td>2019-06-25 05:00:00</td>\n",
       "      <td>2.855113</td>\n",
       "      <td>-0.255226</td>\n",
       "      <td>2.866498</td>\n",
       "      <td>275.108242</td>\n",
       "    </tr>\n",
       "  </tbody>\n",
       "</table>\n",
       "</div>"
      ],
      "text/plain": [
       "  Generation_Date       Forecast_Date         U         V        ws  \\\n",
       "1      2019-06-25 2019-06-25 01:00:00  1.861707  0.195582  1.871952   \n",
       "2      2019-06-25 2019-06-25 02:00:00  1.257695  0.570511  1.381043   \n",
       "3      2019-06-25 2019-06-25 03:00:00  1.883554  0.701067  2.009794   \n",
       "4      2019-06-25 2019-06-25 04:00:00  2.664914  0.169917  2.670325   \n",
       "5      2019-06-25 2019-06-25 05:00:00  2.855113 -0.255226  2.866498   \n",
       "\n",
       "    Direction  \n",
       "1  264.002783  \n",
       "2  245.600179  \n",
       "3  249.584514  \n",
       "4  266.351713  \n",
       "5  275.108242  "
      ]
     },
     "execution_count": 6,
     "metadata": {},
     "output_type": "execute_result"
    }
   ],
   "source": [
    "weather.head()"
   ]
  },
  {
   "cell_type": "code",
   "execution_count": 7,
   "metadata": {},
   "outputs": [],
   "source": [
    "# Drop Generation_Date and make Forecast_Date the index \n",
    "weather = weather.drop('Generation_Date', axis=1).set_index('Forecast_Date')"
   ]
  },
  {
   "cell_type": "code",
   "execution_count": 8,
   "metadata": {},
   "outputs": [
    {
     "data": {
      "text/html": [
       "<div>\n",
       "<style scoped>\n",
       "    .dataframe tbody tr th:only-of-type {\n",
       "        vertical-align: middle;\n",
       "    }\n",
       "\n",
       "    .dataframe tbody tr th {\n",
       "        vertical-align: top;\n",
       "    }\n",
       "\n",
       "    .dataframe thead th {\n",
       "        text-align: right;\n",
       "    }\n",
       "</style>\n",
       "<table border=\"1\" class=\"dataframe\">\n",
       "  <thead>\n",
       "    <tr style=\"text-align: right;\">\n",
       "      <th></th>\n",
       "      <th>U</th>\n",
       "      <th>V</th>\n",
       "      <th>ws</th>\n",
       "      <th>Direction</th>\n",
       "    </tr>\n",
       "    <tr>\n",
       "      <th>Forecast_Date</th>\n",
       "      <th></th>\n",
       "      <th></th>\n",
       "      <th></th>\n",
       "      <th></th>\n",
       "    </tr>\n",
       "  </thead>\n",
       "  <tbody>\n",
       "    <tr>\n",
       "      <th>2019-06-25 01:00:00</th>\n",
       "      <td>1.861707</td>\n",
       "      <td>0.195582</td>\n",
       "      <td>1.871952</td>\n",
       "      <td>264.002783</td>\n",
       "    </tr>\n",
       "    <tr>\n",
       "      <th>2019-06-25 02:00:00</th>\n",
       "      <td>1.257695</td>\n",
       "      <td>0.570511</td>\n",
       "      <td>1.381043</td>\n",
       "      <td>245.600179</td>\n",
       "    </tr>\n",
       "    <tr>\n",
       "      <th>2019-06-25 03:00:00</th>\n",
       "      <td>1.883554</td>\n",
       "      <td>0.701067</td>\n",
       "      <td>2.009794</td>\n",
       "      <td>249.584514</td>\n",
       "    </tr>\n",
       "    <tr>\n",
       "      <th>2019-06-25 04:00:00</th>\n",
       "      <td>2.664914</td>\n",
       "      <td>0.169917</td>\n",
       "      <td>2.670325</td>\n",
       "      <td>266.351713</td>\n",
       "    </tr>\n",
       "    <tr>\n",
       "      <th>2019-06-25 05:00:00</th>\n",
       "      <td>2.855113</td>\n",
       "      <td>-0.255226</td>\n",
       "      <td>2.866498</td>\n",
       "      <td>275.108242</td>\n",
       "    </tr>\n",
       "  </tbody>\n",
       "</table>\n",
       "</div>"
      ],
      "text/plain": [
       "                            U         V        ws   Direction\n",
       "Forecast_Date                                                \n",
       "2019-06-25 01:00:00  1.861707  0.195582  1.871952  264.002783\n",
       "2019-06-25 02:00:00  1.257695  0.570511  1.381043  245.600179\n",
       "2019-06-25 03:00:00  1.883554  0.701067  2.009794  249.584514\n",
       "2019-06-25 04:00:00  2.664914  0.169917  2.670325  266.351713\n",
       "2019-06-25 05:00:00  2.855113 -0.255226  2.866498  275.108242"
      ]
     },
     "execution_count": 8,
     "metadata": {},
     "output_type": "execute_result"
    }
   ],
   "source": [
    "weather.head()"
   ]
  },
  {
   "cell_type": "code",
   "execution_count": 9,
   "metadata": {},
   "outputs": [],
   "source": [
    "# Merge the labels and weather data\n",
    "data = pd.merge(left=labels, right=weather, left_index=True, right_index=True, how='left')"
   ]
  },
  {
   "cell_type": "code",
   "execution_count": 10,
   "metadata": {},
   "outputs": [
    {
     "data": {
      "text/html": [
       "<div>\n",
       "<style scoped>\n",
       "    .dataframe tbody tr th:only-of-type {\n",
       "        vertical-align: middle;\n",
       "    }\n",
       "\n",
       "    .dataframe tbody tr th {\n",
       "        vertical-align: top;\n",
       "    }\n",
       "\n",
       "    .dataframe thead th {\n",
       "        text-align: right;\n",
       "    }\n",
       "</style>\n",
       "<table border=\"1\" class=\"dataframe\">\n",
       "  <thead>\n",
       "    <tr style=\"text-align: right;\">\n",
       "      <th></th>\n",
       "      <th>Day_part</th>\n",
       "      <th>Month</th>\n",
       "      <th>power_1</th>\n",
       "      <th>power_2</th>\n",
       "      <th>power_3</th>\n",
       "      <th>U</th>\n",
       "      <th>V</th>\n",
       "      <th>ws</th>\n",
       "      <th>Direction</th>\n",
       "    </tr>\n",
       "  </thead>\n",
       "  <tbody>\n",
       "    <tr>\n",
       "      <th>2019-01-01 00:00:00</th>\n",
       "      <td>0.0</td>\n",
       "      <td>1</td>\n",
       "      <td>48637.0</td>\n",
       "      <td>51637.0</td>\n",
       "      <td>54637.0</td>\n",
       "      <td>NaN</td>\n",
       "      <td>NaN</td>\n",
       "      <td>NaN</td>\n",
       "      <td>NaN</td>\n",
       "    </tr>\n",
       "    <tr>\n",
       "      <th>2019-01-01 00:15:00</th>\n",
       "      <td>0.0</td>\n",
       "      <td>1</td>\n",
       "      <td>52357.0</td>\n",
       "      <td>55357.0</td>\n",
       "      <td>58357.0</td>\n",
       "      <td>NaN</td>\n",
       "      <td>NaN</td>\n",
       "      <td>NaN</td>\n",
       "      <td>NaN</td>\n",
       "    </tr>\n",
       "    <tr>\n",
       "      <th>2019-01-01 00:30:00</th>\n",
       "      <td>0.0</td>\n",
       "      <td>1</td>\n",
       "      <td>54317.0</td>\n",
       "      <td>57317.0</td>\n",
       "      <td>60317.0</td>\n",
       "      <td>NaN</td>\n",
       "      <td>NaN</td>\n",
       "      <td>NaN</td>\n",
       "      <td>NaN</td>\n",
       "    </tr>\n",
       "    <tr>\n",
       "      <th>2019-01-01 00:45:00</th>\n",
       "      <td>0.0</td>\n",
       "      <td>1</td>\n",
       "      <td>54220.5</td>\n",
       "      <td>57220.5</td>\n",
       "      <td>60220.5</td>\n",
       "      <td>NaN</td>\n",
       "      <td>NaN</td>\n",
       "      <td>NaN</td>\n",
       "      <td>NaN</td>\n",
       "    </tr>\n",
       "    <tr>\n",
       "      <th>2019-01-01 01:00:00</th>\n",
       "      <td>0.0</td>\n",
       "      <td>1</td>\n",
       "      <td>51680.0</td>\n",
       "      <td>54680.0</td>\n",
       "      <td>57680.0</td>\n",
       "      <td>NaN</td>\n",
       "      <td>NaN</td>\n",
       "      <td>NaN</td>\n",
       "      <td>NaN</td>\n",
       "    </tr>\n",
       "  </tbody>\n",
       "</table>\n",
       "</div>"
      ],
      "text/plain": [
       "                     Day_part  Month  power_1  power_2  power_3   U   V  ws  \\\n",
       "2019-01-01 00:00:00       0.0      1  48637.0  51637.0  54637.0 NaN NaN NaN   \n",
       "2019-01-01 00:15:00       0.0      1  52357.0  55357.0  58357.0 NaN NaN NaN   \n",
       "2019-01-01 00:30:00       0.0      1  54317.0  57317.0  60317.0 NaN NaN NaN   \n",
       "2019-01-01 00:45:00       0.0      1  54220.5  57220.5  60220.5 NaN NaN NaN   \n",
       "2019-01-01 01:00:00       0.0      1  51680.0  54680.0  57680.0 NaN NaN NaN   \n",
       "\n",
       "                     Direction  \n",
       "2019-01-01 00:00:00        NaN  \n",
       "2019-01-01 00:15:00        NaN  \n",
       "2019-01-01 00:30:00        NaN  \n",
       "2019-01-01 00:45:00        NaN  \n",
       "2019-01-01 01:00:00        NaN  "
      ]
     },
     "execution_count": 10,
     "metadata": {},
     "output_type": "execute_result"
    }
   ],
   "source": [
    "data.head()"
   ]
  },
  {
   "cell_type": "code",
   "execution_count": 11,
   "metadata": {},
   "outputs": [],
   "source": [
    "# Keep values from the start date of weather \n",
    "data = data[np.where(data.index == weather.index.min())[0][0]:]"
   ]
  },
  {
   "cell_type": "code",
   "execution_count": 12,
   "metadata": {},
   "outputs": [],
   "source": [
    "# Fill the hourly values forward to quarter hour \n",
    "data['U'] = data['U'].fillna(method='ffill')\n",
    "data['V'] = data['V'].fillna(method='ffill')\n",
    "data['ws'] = data['ws'].fillna(method='ffill')\n",
    "data['Direction'] = data['Direction'].fillna(method='ffill')"
   ]
  },
  {
   "cell_type": "code",
   "execution_count": 13,
   "metadata": {},
   "outputs": [],
   "source": [
    "# Rearrange so that power is the last column\n",
    "data = data[['Day_part', 'Month', 'U', 'V', 'ws', 'Direction', 'power_1','power_2','power_3']]"
   ]
  },
  {
   "cell_type": "code",
   "execution_count": 14,
   "metadata": {},
   "outputs": [
    {
     "data": {
      "text/html": [
       "<div>\n",
       "<style scoped>\n",
       "    .dataframe tbody tr th:only-of-type {\n",
       "        vertical-align: middle;\n",
       "    }\n",
       "\n",
       "    .dataframe tbody tr th {\n",
       "        vertical-align: top;\n",
       "    }\n",
       "\n",
       "    .dataframe thead th {\n",
       "        text-align: right;\n",
       "    }\n",
       "</style>\n",
       "<table border=\"1\" class=\"dataframe\">\n",
       "  <thead>\n",
       "    <tr style=\"text-align: right;\">\n",
       "      <th></th>\n",
       "      <th>Day_part</th>\n",
       "      <th>Month</th>\n",
       "      <th>U</th>\n",
       "      <th>V</th>\n",
       "      <th>ws</th>\n",
       "      <th>Direction</th>\n",
       "      <th>power_1</th>\n",
       "      <th>power_2</th>\n",
       "      <th>power_3</th>\n",
       "    </tr>\n",
       "  </thead>\n",
       "  <tbody>\n",
       "    <tr>\n",
       "      <th>2019-06-25 01:00:00</th>\n",
       "      <td>0.0</td>\n",
       "      <td>6</td>\n",
       "      <td>1.861707</td>\n",
       "      <td>0.195582</td>\n",
       "      <td>1.871952</td>\n",
       "      <td>264.002783</td>\n",
       "      <td>4686.2</td>\n",
       "      <td>7686.2</td>\n",
       "      <td>10686.2</td>\n",
       "    </tr>\n",
       "    <tr>\n",
       "      <th>2019-06-25 01:15:00</th>\n",
       "      <td>0.0</td>\n",
       "      <td>6</td>\n",
       "      <td>1.861707</td>\n",
       "      <td>0.195582</td>\n",
       "      <td>1.871952</td>\n",
       "      <td>264.002783</td>\n",
       "      <td>4047.9</td>\n",
       "      <td>7047.9</td>\n",
       "      <td>10047.9</td>\n",
       "    </tr>\n",
       "    <tr>\n",
       "      <th>2019-06-25 01:30:00</th>\n",
       "      <td>0.0</td>\n",
       "      <td>6</td>\n",
       "      <td>1.861707</td>\n",
       "      <td>0.195582</td>\n",
       "      <td>1.871952</td>\n",
       "      <td>264.002783</td>\n",
       "      <td>3251.0</td>\n",
       "      <td>6251.0</td>\n",
       "      <td>9251.0</td>\n",
       "    </tr>\n",
       "    <tr>\n",
       "      <th>2019-06-25 01:45:00</th>\n",
       "      <td>0.0</td>\n",
       "      <td>6</td>\n",
       "      <td>1.861707</td>\n",
       "      <td>0.195582</td>\n",
       "      <td>1.871952</td>\n",
       "      <td>264.002783</td>\n",
       "      <td>2244.5</td>\n",
       "      <td>5244.5</td>\n",
       "      <td>8244.5</td>\n",
       "    </tr>\n",
       "    <tr>\n",
       "      <th>2019-06-25 02:00:00</th>\n",
       "      <td>0.0</td>\n",
       "      <td>6</td>\n",
       "      <td>1.257695</td>\n",
       "      <td>0.570511</td>\n",
       "      <td>1.381043</td>\n",
       "      <td>245.600179</td>\n",
       "      <td>2224.6</td>\n",
       "      <td>5224.6</td>\n",
       "      <td>8224.6</td>\n",
       "    </tr>\n",
       "  </tbody>\n",
       "</table>\n",
       "</div>"
      ],
      "text/plain": [
       "                     Day_part  Month         U         V        ws  \\\n",
       "2019-06-25 01:00:00       0.0      6  1.861707  0.195582  1.871952   \n",
       "2019-06-25 01:15:00       0.0      6  1.861707  0.195582  1.871952   \n",
       "2019-06-25 01:30:00       0.0      6  1.861707  0.195582  1.871952   \n",
       "2019-06-25 01:45:00       0.0      6  1.861707  0.195582  1.871952   \n",
       "2019-06-25 02:00:00       0.0      6  1.257695  0.570511  1.381043   \n",
       "\n",
       "                      Direction  power_1  power_2  power_3  \n",
       "2019-06-25 01:00:00  264.002783   4686.2   7686.2  10686.2  \n",
       "2019-06-25 01:15:00  264.002783   4047.9   7047.9  10047.9  \n",
       "2019-06-25 01:30:00  264.002783   3251.0   6251.0   9251.0  \n",
       "2019-06-25 01:45:00  264.002783   2244.5   5244.5   8244.5  \n",
       "2019-06-25 02:00:00  245.600179   2224.6   5224.6   8224.6  "
      ]
     },
     "execution_count": 14,
     "metadata": {},
     "output_type": "execute_result"
    }
   ],
   "source": [
    "data.head()"
   ]
  },
  {
   "cell_type": "markdown",
   "metadata": {},
   "source": [
    "#### Use Random Forest Regression to impute missing power values"
   ]
  },
  {
   "cell_type": "code",
   "execution_count": 15,
   "metadata": {},
   "outputs": [
    {
     "data": {
      "text/plain": [
       "341"
      ]
     },
     "execution_count": 15,
     "metadata": {},
     "output_type": "execute_result"
    }
   ],
   "source": [
    "missing_powers_mask = (data['power_1'].isnull()) & (data['power_2'].isnull()) & (data['power_3'].isnull())   \n",
    "data.loc[missing_powers_mask].shape[0]"
   ]
  },
  {
   "cell_type": "code",
   "execution_count": 16,
   "metadata": {},
   "outputs": [],
   "source": [
    "powers_present_mask = (data['power_1'].notnull()) & (data['power_2'].notnull()) & (data['power_3'].notnull())\n",
    "data[powers_present_mask]\n",
    "rf_inputs = data[powers_present_mask].drop(['power_1', 'power_2', 'power_3'], axis=1)\n",
    "rf_labels = data[powers_present_mask][['power_1','power_2', 'power_3']]"
   ]
  },
  {
   "cell_type": "code",
   "execution_count": 17,
   "metadata": {},
   "outputs": [],
   "source": [
    "from sklearn.model_selection import train_test_split\n",
    "from sklearn.ensemble import RandomForestRegressor\n",
    "from sklearn.multioutput import MultiOutputRegressor"
   ]
  },
  {
   "cell_type": "code",
   "execution_count": 18,
   "metadata": {},
   "outputs": [],
   "source": [
    "X_train, X_test, y_train, y_test = train_test_split(rf_inputs, rf_labels, test_size=0.20)"
   ]
  },
  {
   "cell_type": "code",
   "execution_count": 19,
   "metadata": {},
   "outputs": [
    {
     "data": {
      "text/plain": [
       "0.9695357860634299"
      ]
     },
     "execution_count": 19,
     "metadata": {},
     "output_type": "execute_result"
    }
   ],
   "source": [
    "regr = MultiOutputRegressor(RandomForestRegressor(n_estimators=50))\n",
    "regr.fit(X_train, y_train)\n",
    "regr.score(X_test, y_test)"
   ]
  },
  {
   "cell_type": "code",
   "execution_count": 20,
   "metadata": {},
   "outputs": [],
   "source": [
    "# Get the values that are missing\n",
    "pred_data = data.loc[missing_powers_mask].drop(['power_1', 'power_2', 'power_3'], axis=1)"
   ]
  },
  {
   "cell_type": "code",
   "execution_count": 21,
   "metadata": {},
   "outputs": [],
   "source": [
    "predictions = regr.predict(pred_data)"
   ]
  },
  {
   "cell_type": "code",
   "execution_count": 22,
   "metadata": {},
   "outputs": [],
   "source": [
    "for ind, pred in zip(data[missing_powers_mask].index, predictions):\n",
    "    data.loc[ind,'power_1'] = pred[0]\n",
    "    data.loc[ind,'power_2'] = pred[1]\n",
    "    data.loc[ind,'power_3'] = pred[2]"
   ]
  },
  {
   "cell_type": "code",
   "execution_count": 23,
   "metadata": {},
   "outputs": [
    {
     "data": {
      "text/plain": [
       "Day_part     0\n",
       "Month        0\n",
       "U            0\n",
       "V            0\n",
       "ws           0\n",
       "Direction    0\n",
       "power_1      0\n",
       "power_2      0\n",
       "power_3      0\n",
       "dtype: int64"
      ]
     },
     "execution_count": 23,
     "metadata": {},
     "output_type": "execute_result"
    }
   ],
   "source": [
    "data.isna().sum()"
   ]
  },
  {
   "cell_type": "markdown",
   "metadata": {},
   "source": [
    "### Model Building"
   ]
  },
  {
   "cell_type": "code",
   "execution_count": 24,
   "metadata": {},
   "outputs": [],
   "source": [
    "np.set_printoptions(suppress=True)"
   ]
  },
  {
   "cell_type": "code",
   "execution_count": 25,
   "metadata": {},
   "outputs": [],
   "source": [
    "# Date to split the training and testing\n",
    "index_1Aug2020 = np.where(data.index == '2020-08-01 00:00:00')[0][0] \n",
    "\n",
    "training_data = data[:index_1Aug2020] \n",
    "testing_data = data[index_1Aug2020:]"
   ]
  },
  {
   "cell_type": "code",
   "execution_count": 26,
   "metadata": {},
   "outputs": [],
   "source": [
    "# Ensure that training data starts at 00:15:00 and ends at 00:00:00\n",
    "training_data = training_data.loc['2019-06-26 00:15:00':'2020-07-30 00:00:00']"
   ]
  },
  {
   "cell_type": "code",
   "execution_count": 27,
   "metadata": {},
   "outputs": [
    {
     "data": {
      "text/html": [
       "<div>\n",
       "<style scoped>\n",
       "    .dataframe tbody tr th:only-of-type {\n",
       "        vertical-align: middle;\n",
       "    }\n",
       "\n",
       "    .dataframe tbody tr th {\n",
       "        vertical-align: top;\n",
       "    }\n",
       "\n",
       "    .dataframe thead th {\n",
       "        text-align: right;\n",
       "    }\n",
       "</style>\n",
       "<table border=\"1\" class=\"dataframe\">\n",
       "  <thead>\n",
       "    <tr style=\"text-align: right;\">\n",
       "      <th></th>\n",
       "      <th>Day_part</th>\n",
       "      <th>Month</th>\n",
       "      <th>U</th>\n",
       "      <th>V</th>\n",
       "      <th>ws</th>\n",
       "      <th>Direction</th>\n",
       "      <th>power_1</th>\n",
       "      <th>power_2</th>\n",
       "      <th>power_3</th>\n",
       "    </tr>\n",
       "  </thead>\n",
       "  <tbody>\n",
       "    <tr>\n",
       "      <th>2019-06-26 00:15:00</th>\n",
       "      <td>0.0</td>\n",
       "      <td>6</td>\n",
       "      <td>2.202267</td>\n",
       "      <td>1.753324</td>\n",
       "      <td>2.814982</td>\n",
       "      <td>231.475115</td>\n",
       "      <td>7021.0</td>\n",
       "      <td>10021.0</td>\n",
       "      <td>13021.0</td>\n",
       "    </tr>\n",
       "    <tr>\n",
       "      <th>2019-06-26 00:30:00</th>\n",
       "      <td>0.0</td>\n",
       "      <td>6</td>\n",
       "      <td>2.202267</td>\n",
       "      <td>1.753324</td>\n",
       "      <td>2.814982</td>\n",
       "      <td>231.475115</td>\n",
       "      <td>6050.6</td>\n",
       "      <td>9050.6</td>\n",
       "      <td>12050.6</td>\n",
       "    </tr>\n",
       "    <tr>\n",
       "      <th>2019-06-26 00:45:00</th>\n",
       "      <td>0.0</td>\n",
       "      <td>6</td>\n",
       "      <td>2.202267</td>\n",
       "      <td>1.753324</td>\n",
       "      <td>2.814982</td>\n",
       "      <td>231.475115</td>\n",
       "      <td>7160.7</td>\n",
       "      <td>10160.7</td>\n",
       "      <td>13160.7</td>\n",
       "    </tr>\n",
       "    <tr>\n",
       "      <th>2019-06-26 01:00:00</th>\n",
       "      <td>0.0</td>\n",
       "      <td>6</td>\n",
       "      <td>1.593115</td>\n",
       "      <td>0.233521</td>\n",
       "      <td>1.610139</td>\n",
       "      <td>261.660883</td>\n",
       "      <td>6447.0</td>\n",
       "      <td>9447.0</td>\n",
       "      <td>12447.0</td>\n",
       "    </tr>\n",
       "    <tr>\n",
       "      <th>2019-06-26 01:15:00</th>\n",
       "      <td>0.0</td>\n",
       "      <td>6</td>\n",
       "      <td>1.593115</td>\n",
       "      <td>0.233521</td>\n",
       "      <td>1.610139</td>\n",
       "      <td>261.660883</td>\n",
       "      <td>5422.2</td>\n",
       "      <td>8422.2</td>\n",
       "      <td>11422.2</td>\n",
       "    </tr>\n",
       "  </tbody>\n",
       "</table>\n",
       "</div>"
      ],
      "text/plain": [
       "                     Day_part  Month         U         V        ws  \\\n",
       "2019-06-26 00:15:00       0.0      6  2.202267  1.753324  2.814982   \n",
       "2019-06-26 00:30:00       0.0      6  2.202267  1.753324  2.814982   \n",
       "2019-06-26 00:45:00       0.0      6  2.202267  1.753324  2.814982   \n",
       "2019-06-26 01:00:00       0.0      6  1.593115  0.233521  1.610139   \n",
       "2019-06-26 01:15:00       0.0      6  1.593115  0.233521  1.610139   \n",
       "\n",
       "                      Direction  power_1  power_2  power_3  \n",
       "2019-06-26 00:15:00  231.475115   7021.0  10021.0  13021.0  \n",
       "2019-06-26 00:30:00  231.475115   6050.6   9050.6  12050.6  \n",
       "2019-06-26 00:45:00  231.475115   7160.7  10160.7  13160.7  \n",
       "2019-06-26 01:00:00  261.660883   6447.0   9447.0  12447.0  \n",
       "2019-06-26 01:15:00  261.660883   5422.2   8422.2  11422.2  "
      ]
     },
     "execution_count": 27,
     "metadata": {},
     "output_type": "execute_result"
    }
   ],
   "source": [
    "training_data.head()"
   ]
  },
  {
   "cell_type": "code",
   "execution_count": 28,
   "metadata": {},
   "outputs": [],
   "source": [
    "# Take all rows except the last 96 instances and all columns except the power columns\n",
    "training_X = training_data.iloc[:-96,:6]"
   ]
  },
  {
   "cell_type": "code",
   "execution_count": 29,
   "metadata": {},
   "outputs": [
    {
     "data": {
      "text/plain": [
       "(38304, 6)"
      ]
     },
     "execution_count": 29,
     "metadata": {},
     "output_type": "execute_result"
    }
   ],
   "source": [
    "training_X.shape"
   ]
  },
  {
   "cell_type": "code",
   "execution_count": 30,
   "metadata": {},
   "outputs": [
    {
     "data": {
      "text/plain": [
       "(399, 96, 6)"
      ]
     },
     "execution_count": 30,
     "metadata": {},
     "output_type": "execute_result"
    }
   ],
   "source": [
    "# Split the training data into chunks of 96\n",
    "X = np.array(np.split(training_X.values, training_X.shape[0]//96))\n",
    "X.shape"
   ]
  },
  {
   "cell_type": "code",
   "execution_count": 31,
   "metadata": {},
   "outputs": [],
   "source": [
    "# Split into train and test sets\n",
    "X_train = X[:320]\n",
    "X_test = X[320:]"
   ]
  },
  {
   "cell_type": "code",
   "execution_count": 32,
   "metadata": {},
   "outputs": [
    {
     "data": {
      "text/html": [
       "<div>\n",
       "<style scoped>\n",
       "    .dataframe tbody tr th:only-of-type {\n",
       "        vertical-align: middle;\n",
       "    }\n",
       "\n",
       "    .dataframe tbody tr th {\n",
       "        vertical-align: top;\n",
       "    }\n",
       "\n",
       "    .dataframe thead th {\n",
       "        text-align: right;\n",
       "    }\n",
       "</style>\n",
       "<table border=\"1\" class=\"dataframe\">\n",
       "  <thead>\n",
       "    <tr style=\"text-align: right;\">\n",
       "      <th></th>\n",
       "      <th>power_1</th>\n",
       "      <th>power_2</th>\n",
       "      <th>power_3</th>\n",
       "    </tr>\n",
       "  </thead>\n",
       "  <tbody>\n",
       "    <tr>\n",
       "      <th>2019-06-26 00:15:00</th>\n",
       "      <td>7021.0</td>\n",
       "      <td>10021.0</td>\n",
       "      <td>13021.0</td>\n",
       "    </tr>\n",
       "    <tr>\n",
       "      <th>2019-06-26 00:30:00</th>\n",
       "      <td>6050.6</td>\n",
       "      <td>9050.6</td>\n",
       "      <td>12050.6</td>\n",
       "    </tr>\n",
       "    <tr>\n",
       "      <th>2019-06-26 00:45:00</th>\n",
       "      <td>7160.7</td>\n",
       "      <td>10160.7</td>\n",
       "      <td>13160.7</td>\n",
       "    </tr>\n",
       "    <tr>\n",
       "      <th>2019-06-26 01:00:00</th>\n",
       "      <td>6447.0</td>\n",
       "      <td>9447.0</td>\n",
       "      <td>12447.0</td>\n",
       "    </tr>\n",
       "    <tr>\n",
       "      <th>2019-06-26 01:15:00</th>\n",
       "      <td>5422.2</td>\n",
       "      <td>8422.2</td>\n",
       "      <td>11422.2</td>\n",
       "    </tr>\n",
       "  </tbody>\n",
       "</table>\n",
       "</div>"
      ],
      "text/plain": [
       "                     power_1  power_2  power_3\n",
       "2019-06-26 00:15:00   7021.0  10021.0  13021.0\n",
       "2019-06-26 00:30:00   6050.6   9050.6  12050.6\n",
       "2019-06-26 00:45:00   7160.7  10160.7  13160.7\n",
       "2019-06-26 01:00:00   6447.0   9447.0  12447.0\n",
       "2019-06-26 01:15:00   5422.2   8422.2  11422.2"
      ]
     },
     "execution_count": 32,
     "metadata": {},
     "output_type": "execute_result"
    }
   ],
   "source": [
    "# Only power columns\n",
    "training_y = training_data.loc[:][['power_1', 'power_2', 'power_3']]\n",
    "training_y.head()"
   ]
  },
  {
   "cell_type": "code",
   "execution_count": 33,
   "metadata": {},
   "outputs": [
    {
     "data": {
      "text/plain": [
       "(38304, 3)"
      ]
     },
     "execution_count": 33,
     "metadata": {},
     "output_type": "execute_result"
    }
   ],
   "source": [
    "# Drop the first 96 instances of the power columns\n",
    "training_y = training_y.iloc[96:]\n",
    "training_y.shape"
   ]
  },
  {
   "cell_type": "code",
   "execution_count": 34,
   "metadata": {},
   "outputs": [],
   "source": [
    "from sklearn.preprocessing import MinMaxScaler\n",
    "sc_X = MinMaxScaler(feature_range=(0, 1))"
   ]
  },
  {
   "cell_type": "code",
   "execution_count": 35,
   "metadata": {},
   "outputs": [],
   "source": [
    "def scale_3d(array, scaler)-> np.ndarray:\n",
    "    days, instances, features = array.shape\n",
    "    array_2d = np.reshape(array, newshape=(days, instances* features))\n",
    "    scaled_2d = scaler(array_2d)\n",
    "    scaled_3d = np.reshape(scaled_2d, newshape=(days, instances, features))\n",
    "    return scaled_3d"
   ]
  },
  {
   "cell_type": "code",
   "execution_count": 36,
   "metadata": {},
   "outputs": [],
   "source": [
    "X_train = scale_3d(X_train, sc_X.fit_transform)\n",
    "X_test = scale_3d(X_test, sc_X.transform)"
   ]
  },
  {
   "cell_type": "code",
   "execution_count": 37,
   "metadata": {},
   "outputs": [
    {
     "data": {
      "text/plain": [
       "(320, 576)"
      ]
     },
     "execution_count": 37,
     "metadata": {},
     "output_type": "execute_result"
    }
   ],
   "source": [
    "# Flatten X\n",
    "n_input = X_train.shape[1] * X_train.shape[2]\n",
    "X_train = X_train.reshape((X_train.shape[0], n_input))\n",
    "X_train.shape"
   ]
  },
  {
   "cell_type": "code",
   "execution_count": 38,
   "metadata": {},
   "outputs": [
    {
     "data": {
      "text/plain": [
       "576"
      ]
     },
     "execution_count": 38,
     "metadata": {},
     "output_type": "execute_result"
    }
   ],
   "source": [
    "n_input"
   ]
  },
  {
   "cell_type": "code",
   "execution_count": 39,
   "metadata": {},
   "outputs": [
    {
     "data": {
      "text/plain": [
       "(399, 96)"
      ]
     },
     "execution_count": 39,
     "metadata": {},
     "output_type": "execute_result"
    }
   ],
   "source": [
    "# Assign power_1 to y_1 and split it into 96 daily values \n",
    "y_1 = training_y['power_1'].values\n",
    "y_1 = np.array(np.split(y_1, y_1.shape[0]/96))\n",
    "y_1.shape"
   ]
  },
  {
   "cell_type": "code",
   "execution_count": 40,
   "metadata": {},
   "outputs": [
    {
     "data": {
      "text/plain": [
       "(399, 96)"
      ]
     },
     "execution_count": 40,
     "metadata": {},
     "output_type": "execute_result"
    }
   ],
   "source": [
    "# Assign power_2 to y_2 and split it into 96 daily values \n",
    "y_2 = training_y['power_2'].values\n",
    "y_2 = np.array(np.split(y_2, y_2.shape[0]/96))\n",
    "y_2.shape"
   ]
  },
  {
   "cell_type": "code",
   "execution_count": 41,
   "metadata": {},
   "outputs": [
    {
     "data": {
      "text/plain": [
       "(399, 96)"
      ]
     },
     "execution_count": 41,
     "metadata": {},
     "output_type": "execute_result"
    }
   ],
   "source": [
    "# Assign power_3 to y_3 and split it into 96 daily values \n",
    "y_3 = training_y['power_3'].values\n",
    "y_3 = np.array(np.split(y_3, y_3.shape[0]/96))\n",
    "y_3.shape"
   ]
  },
  {
   "cell_type": "code",
   "execution_count": 42,
   "metadata": {},
   "outputs": [],
   "source": [
    "# Split into train and test sets\n",
    "y_train_1 = y_1[:320]\n",
    "y_test_1 = y_1[320:]\n",
    "\n",
    "y_train_2 = y_2[:320]\n",
    "y_test_2 = y_2[320:]\n",
    "\n",
    "y_train_3 = y_3[:320]\n",
    "y_test_3 = y_3[320:]"
   ]
  },
  {
   "cell_type": "code",
   "execution_count": 43,
   "metadata": {},
   "outputs": [],
   "source": [
    "import tensorflow as tf\n",
    "import keras\n",
    "from keras.layers import Dense, Layer"
   ]
  },
  {
   "cell_type": "code",
   "execution_count": 44,
   "metadata": {},
   "outputs": [],
   "source": [
    "# Setup the switch variable\n",
    "switch = tf.Variable(1)"
   ]
  },
  {
   "cell_type": "code",
   "execution_count": 45,
   "metadata": {},
   "outputs": [],
   "source": [
    "class FiLMLayer(Layer):\n",
    "    def __init__(self, switch):\n",
    "      super(FiLMLayer, self).__init__()\n",
    "      self.switch = switch\n",
    "      self.gamma = tf.Variable(initial_value=tf.random.uniform(shape=(3,200), minval=0, maxval=1, dtype=tf.dtypes.float32), trainable=True) \n",
    "      self.beta = tf.Variable(initial_value=tf.random.uniform(shape=(3,200), minval=0, maxval=1, dtype=tf.dtypes.float32), trainable=True)\n",
    "\n",
    "    def call(self, input):\n",
    "      if self.switch == 1:\n",
    "        return tf.multiply(self.gamma[0], input) + self.beta[0]\n",
    "      elif self.switch == 2:\n",
    "        return tf.multiply(self.gamma[1], input) + self.beta[1]\n",
    "      else: \n",
    "        return tf.multiply(self.gamma[2], input) + self.beta[2]"
   ]
  },
  {
   "cell_type": "code",
   "execution_count": 46,
   "metadata": {},
   "outputs": [],
   "source": [
    "# Create a network\n",
    "inputLayer = keras.Input(shape=(n_input))\n",
    "dense_layer2= Dense(200, activation='relu', name=\"Dense1\")(inputLayer)\n",
    "film_layer = FiLMLayer(switch)(dense_layer2)\n",
    "dense_layer2 = Dense(200, activation='relu', name=\"Dense2\")(film_layer)\n",
    "outputLayer = Dense(96)(dense_layer2) "
   ]
  },
  {
   "cell_type": "code",
   "execution_count": 47,
   "metadata": {},
   "outputs": [],
   "source": [
    "model = keras.Model(inputs=inputLayer, outputs=outputLayer)"
   ]
  },
  {
   "cell_type": "code",
   "execution_count": 48,
   "metadata": {},
   "outputs": [
    {
     "name": "stdout",
     "output_type": "stream",
     "text": [
      "Model: \"model\"\n",
      "_________________________________________________________________\n",
      " Layer (type)                Output Shape              Param #   \n",
      "=================================================================\n",
      " input_1 (InputLayer)        [(None, 576)]             0         \n",
      "                                                                 \n",
      " Dense1 (Dense)              (None, 200)               115400    \n",
      "                                                                 \n",
      " fi_lm_layer (FiLMLayer)     (None, 200)               1201      \n",
      "                                                                 \n",
      " Dense2 (Dense)              (None, 200)               40200     \n",
      "                                                                 \n",
      " dense (Dense)               (None, 96)                19296     \n",
      "                                                                 \n",
      "=================================================================\n",
      "Total params: 176,097\n",
      "Trainable params: 176,097\n",
      "Non-trainable params: 0\n",
      "_________________________________________________________________\n"
     ]
    }
   ],
   "source": [
    "model.summary()"
   ]
  },
  {
   "cell_type": "code",
   "execution_count": 49,
   "metadata": {},
   "outputs": [],
   "source": [
    "model.compile(loss='mse', optimizer='adam')"
   ]
  },
  {
   "cell_type": "code",
   "execution_count": 50,
   "metadata": {},
   "outputs": [
    {
     "name": "stdout",
     "output_type": "stream",
     "text": [
      "Epoch 1/5\n",
      "WARNING:tensorflow:The dtype of the source tensor must be floating (e.g. tf.float32) when calling GradientTape.gradient, got tf.int32\n",
      "WARNING:tensorflow:Gradients do not exist for variables ['Variable:0'] when minimizing the loss. If you're using `model.compile()`, did you forget to provide a `loss`argument?\n",
      "WARNING:tensorflow:The dtype of the source tensor must be floating (e.g. tf.float32) when calling GradientTape.gradient, got tf.int32\n",
      "WARNING:tensorflow:Gradients do not exist for variables ['Variable:0'] when minimizing the loss. If you're using `model.compile()`, did you forget to provide a `loss`argument?\n",
      "320/320 [==============================] - 5s 5ms/step - loss: 893127552.0000\n",
      "Epoch 2/5\n",
      "320/320 [==============================] - 2s 5ms/step - loss: 458929152.0000\n",
      "Epoch 3/5\n",
      "320/320 [==============================] - 2s 5ms/step - loss: 437485152.0000\n",
      "Epoch 4/5\n",
      "320/320 [==============================] - 2s 5ms/step - loss: 419380256.0000\n",
      "Epoch 5/5\n",
      "320/320 [==============================] - 2s 5ms/step - loss: 405228960.0000\n"
     ]
    },
    {
     "data": {
      "text/plain": [
       "<keras.callbacks.History at 0x1f74b14a890>"
      ]
     },
     "execution_count": 50,
     "metadata": {},
     "output_type": "execute_result"
    }
   ],
   "source": [
    "# switch variable set to 1 previously\n",
    "model.fit(X_train, y_train_1,  epochs=5, batch_size=1, verbose=1)"
   ]
  },
  {
   "cell_type": "code",
   "execution_count": 51,
   "metadata": {},
   "outputs": [
    {
     "name": "stdout",
     "output_type": "stream",
     "text": [
      "Epoch 1/5\n",
      "320/320 [==============================] - 2s 5ms/step - loss: 388578368.0000\n",
      "Epoch 2/5\n",
      "320/320 [==============================] - 2s 5ms/step - loss: 359713504.0000\n",
      "Epoch 3/5\n",
      "320/320 [==============================] - 2s 5ms/step - loss: 338873952.0000\n",
      "Epoch 4/5\n",
      "320/320 [==============================] - 2s 5ms/step - loss: 317741760.0000\n",
      "Epoch 5/5\n",
      "320/320 [==============================] - 2s 7ms/step - loss: 299890848.0000\n"
     ]
    },
    {
     "data": {
      "text/plain": [
       "<keras.callbacks.History at 0x1f74c45e980>"
      ]
     },
     "execution_count": 51,
     "metadata": {},
     "output_type": "execute_result"
    }
   ],
   "source": [
    "# Set switch to 2 and fit model\n",
    "switch.assign(2)\n",
    "model.fit(X_train, y_train_2,  epochs=5, batch_size=1, verbose=1)"
   ]
  },
  {
   "cell_type": "code",
   "execution_count": 52,
   "metadata": {},
   "outputs": [
    {
     "name": "stdout",
     "output_type": "stream",
     "text": [
      "Epoch 1/5\n",
      "320/320 [==============================] - 2s 5ms/step - loss: 301728096.0000\n",
      "Epoch 2/5\n",
      "320/320 [==============================] - 2s 5ms/step - loss: 277100768.0000\n",
      "Epoch 3/5\n",
      "320/320 [==============================] - 2s 5ms/step - loss: 265148256.0000\n",
      "Epoch 4/5\n",
      "320/320 [==============================] - 2s 5ms/step - loss: 255550384.0000\n",
      "Epoch 5/5\n",
      "320/320 [==============================] - 2s 6ms/step - loss: 250683296.0000\n"
     ]
    },
    {
     "data": {
      "text/plain": [
       "<keras.callbacks.History at 0x1f74c47bbb0>"
      ]
     },
     "execution_count": 52,
     "metadata": {},
     "output_type": "execute_result"
    }
   ],
   "source": [
    "# Set switch to 3 and fit model\n",
    "switch.assign(3)\n",
    "model.fit(X_train, y_train_3, epochs=5, batch_size=1, verbose=1)"
   ]
  },
  {
   "cell_type": "code",
   "execution_count": 53,
   "metadata": {},
   "outputs": [
    {
     "data": {
      "text/plain": [
       "(79, 576)"
      ]
     },
     "execution_count": 53,
     "metadata": {},
     "output_type": "execute_result"
    }
   ],
   "source": [
    "# Flatten test\n",
    "n_input2 = X_test.shape[1] * X_test.shape[2]  \n",
    "X_test = X_test.reshape(X_test.shape[0], n_input2)\n",
    "X_test.shape"
   ]
  },
  {
   "cell_type": "code",
   "execution_count": 54,
   "metadata": {},
   "outputs": [],
   "source": [
    "def nmae(y_true, y_pred):\n",
    "    ''' Normalized Mean Absolute Error '''\n",
    "    return 100*((np.sum(np.abs(y_true - y_pred))/y_true.size)/106400)"
   ]
  },
  {
   "cell_type": "code",
   "execution_count": 55,
   "metadata": {},
   "outputs": [
    {
     "name": "stdout",
     "output_type": "stream",
     "text": [
      "3/3 [==============================] - 1s 6ms/step\n"
     ]
    },
    {
     "data": {
      "text/plain": [
       "13.72860019692104"
      ]
     },
     "execution_count": 55,
     "metadata": {},
     "output_type": "execute_result"
    }
   ],
   "source": [
    "# switch variable has been set to 3 previously\n",
    "# test with power_3 labels\n",
    "yhat3 = model.predict(X_test)\n",
    "nmae_test3 = nmae(y_test_3, yhat3)\n",
    "nmae_test3"
   ]
  },
  {
   "cell_type": "code",
   "execution_count": 56,
   "metadata": {},
   "outputs": [
    {
     "name": "stdout",
     "output_type": "stream",
     "text": [
      "3/3 [==============================] - 0s 5ms/step\n"
     ]
    },
    {
     "data": {
      "text/plain": [
       "17.015071528974357"
      ]
     },
     "execution_count": 56,
     "metadata": {},
     "output_type": "execute_result"
    }
   ],
   "source": [
    "# Set switch to 2\n",
    "# test with power_2 labels\n",
    "switch.assign(2)\n",
    "yhat2 = model.predict(X_test)\n",
    "nmae_test2 = nmae(y_test_2, yhat2)\n",
    "nmae_test2"
   ]
  },
  {
   "cell_type": "code",
   "execution_count": 57,
   "metadata": {},
   "outputs": [
    {
     "name": "stdout",
     "output_type": "stream",
     "text": [
      "3/3 [==============================] - 0s 4ms/step\n"
     ]
    },
    {
     "data": {
      "text/plain": [
       "20.167220733933128"
      ]
     },
     "execution_count": 57,
     "metadata": {},
     "output_type": "execute_result"
    }
   ],
   "source": [
    "# Set switch to 1\n",
    "# test with power_1 labels\n",
    "switch.assign(1)\n",
    "yhat1 = model.predict(X_test)\n",
    "nmae_test2 = nmae(y_test_1, yhat1)\n",
    "nmae_test2"
   ]
  },
  {
   "cell_type": "markdown",
   "metadata": {},
   "source": [
    "## Making predictions on test data"
   ]
  },
  {
   "cell_type": "code",
   "execution_count": 58,
   "metadata": {},
   "outputs": [
    {
     "data": {
      "text/plain": [
       "(8737, 9)"
      ]
     },
     "execution_count": 58,
     "metadata": {},
     "output_type": "execute_result"
    }
   ],
   "source": [
    "testing_data.shape"
   ]
  },
  {
   "cell_type": "code",
   "execution_count": 59,
   "metadata": {},
   "outputs": [
    {
     "data": {
      "text/plain": [
       "(8736, 9)"
      ]
     },
     "execution_count": 59,
     "metadata": {},
     "output_type": "execute_result"
    }
   ],
   "source": [
    "# Delete the first instance at 00:00:00\n",
    "testing_data_div96 = testing_data[1:]\n",
    "testing_data_div96.shape"
   ]
  },
  {
   "cell_type": "code",
   "execution_count": 60,
   "metadata": {},
   "outputs": [],
   "source": [
    "# Drop the last 96 instances for x & delete the power columns\n",
    "test_x = testing_data_div96.iloc[:-96,:6]\n",
    "# Drop the first 96 instances for y and delete the features\n",
    "test_y = testing_data_div96.iloc[96:,6:]"
   ]
  },
  {
   "cell_type": "code",
   "execution_count": 61,
   "metadata": {},
   "outputs": [
    {
     "data": {
      "text/plain": [
       "(8640, 6)"
      ]
     },
     "execution_count": 61,
     "metadata": {},
     "output_type": "execute_result"
    }
   ],
   "source": [
    "test_x.shape"
   ]
  },
  {
   "cell_type": "code",
   "execution_count": 62,
   "metadata": {},
   "outputs": [
    {
     "data": {
      "text/plain": [
       "(90, 96, 6)"
      ]
     },
     "execution_count": 62,
     "metadata": {},
     "output_type": "execute_result"
    }
   ],
   "source": [
    "# Split the test data into chunks of 96\n",
    "test_x_split = np.array(np.split(test_x.values, test_x.shape[0]//96))\n",
    "test_x_split.shape"
   ]
  },
  {
   "cell_type": "code",
   "execution_count": 63,
   "metadata": {},
   "outputs": [
    {
     "data": {
      "text/plain": [
       "(90, 576)"
      ]
     },
     "execution_count": 63,
     "metadata": {},
     "output_type": "execute_result"
    }
   ],
   "source": [
    "# Flatten X\n",
    "n_input3 = test_x_split.shape[1] * test_x_split.shape[2]\n",
    "test_x_unscaled = test_x_split.reshape(test_x_split.shape[0], n_input3)\n",
    "test_x_unscaled.shape"
   ]
  },
  {
   "cell_type": "code",
   "execution_count": 64,
   "metadata": {},
   "outputs": [
    {
     "data": {
      "text/plain": [
       "(90, 576)"
      ]
     },
     "execution_count": 64,
     "metadata": {},
     "output_type": "execute_result"
    }
   ],
   "source": [
    "# Normalizing\n",
    "text_x_scaled = sc_X.fit_transform(test_x_unscaled)\n",
    "text_x_scaled.shape"
   ]
  },
  {
   "cell_type": "code",
   "execution_count": 65,
   "metadata": {},
   "outputs": [
    {
     "name": "stdout",
     "output_type": "stream",
     "text": [
      "3/3 [==============================] - 0s 4ms/step\n"
     ]
    }
   ],
   "source": [
    "# Set switch to 1 and predict\n",
    "switch.assign(1)\n",
    "test_yhat1 = model.predict(text_x_scaled)"
   ]
  },
  {
   "cell_type": "code",
   "execution_count": 66,
   "metadata": {},
   "outputs": [
    {
     "name": "stdout",
     "output_type": "stream",
     "text": [
      "3/3 [==============================] - 0s 6ms/step\n"
     ]
    }
   ],
   "source": [
    "# Set switch to 2 and predict\n",
    "switch.assign(2)\n",
    "test_yhat2 = model.predict(text_x_scaled)"
   ]
  },
  {
   "cell_type": "code",
   "execution_count": 67,
   "metadata": {},
   "outputs": [
    {
     "name": "stdout",
     "output_type": "stream",
     "text": [
      "3/3 [==============================] - 0s 5ms/step\n"
     ]
    }
   ],
   "source": [
    "# Set switch to 3 and predict\n",
    "switch.assign(3)\n",
    "test_yhat3 = model.predict(text_x_scaled)"
   ]
  },
  {
   "cell_type": "code",
   "execution_count": 68,
   "metadata": {},
   "outputs": [],
   "source": [
    "# Get power_1 labels\n",
    "# Split labels by days\n",
    "# Calculate the NMAE for days and predictions\n",
    "target1 = test_y['power_1'].values\n",
    "target1_split = np.array(np.split(target1, 90))\n",
    "nmae1 = np.array([nmae(target, yhat) for target, yhat in zip(target1_split, test_yhat1)])"
   ]
  },
  {
   "cell_type": "code",
   "execution_count": 69,
   "metadata": {},
   "outputs": [],
   "source": [
    "# Get power_2 labels\n",
    "# Split labels by days\n",
    "# Calculate the NMAE for days and predictions\n",
    "target2 = test_y['power_2'].values\n",
    "target2_split = np.array(np.split(target2, 90))\n",
    "nmae2 = np.array([nmae(target, yhat) for target, yhat in zip(target2_split, test_yhat2)])"
   ]
  },
  {
   "cell_type": "code",
   "execution_count": 70,
   "metadata": {},
   "outputs": [],
   "source": [
    "# Get power_3 labels\n",
    "# Split labels by days\n",
    "# Calculate the NMAE for days and predictions\n",
    "target3 = test_y['power_3'].values\n",
    "target3_split = np.array(np.split(target3, 90))\n",
    "nmae3 = np.array([nmae(target, yhat) for target, yhat in zip(target3_split, test_yhat3)])"
   ]
  },
  {
   "cell_type": "code",
   "execution_count": 71,
   "metadata": {},
   "outputs": [],
   "source": [
    "# Create a matrix (n_targets, n_days) \n",
    "target_days_matrix = np.empty((3,90))\n",
    "target_days_matrix[0] = nmae1\n",
    "target_days_matrix[1] = nmae2\n",
    "target_days_matrix[2] = nmae3"
   ]
  },
  {
   "cell_type": "code",
   "execution_count": 72,
   "metadata": {},
   "outputs": [
    {
     "data": {
      "text/plain": [
       "(3, 90)"
      ]
     },
     "execution_count": 72,
     "metadata": {},
     "output_type": "execute_result"
    }
   ],
   "source": [
    "target_days_matrix.shape"
   ]
  }
 ],
 "metadata": {
  "kernelspec": {
   "display_name": "Python 3.10.4 ('env': venv)",
   "language": "python",
   "name": "python3"
  },
  "language_info": {
   "codemirror_mode": {
    "name": "ipython",
    "version": 3
   },
   "file_extension": ".py",
   "mimetype": "text/x-python",
   "name": "python",
   "nbconvert_exporter": "python",
   "pygments_lexer": "ipython3",
   "version": "3.10.4"
  },
  "orig_nbformat": 4,
  "vscode": {
   "interpreter": {
    "hash": "9caa281ebeb769b9d8f87ec84c8c596a157648216885e09be5c1427422d5d8cd"
   }
  }
 },
 "nbformat": 4,
 "nbformat_minor": 2
}
