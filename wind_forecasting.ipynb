{
 "cells": [
  {
   "cell_type": "markdown",
   "metadata": {},
   "source": [
    "# Windpower forecasting\n",
    "Author: Karan Singh"
   ]
  },
  {
   "cell_type": "code",
   "execution_count": 498,
   "metadata": {},
   "outputs": [],
   "source": [
    "import numpy as np\n",
    "import pandas as pd"
   ]
  },
  {
   "cell_type": "code",
   "execution_count": 499,
   "metadata": {},
   "outputs": [],
   "source": [
    "labels = pd.read_parquet('../case_power_forecasting/case_power_forecasting/data/labels.parquet', engine='pyarrow')\n",
    "weather = pd.read_parquet('../case_power_forecasting/case_power_forecasting/data/weather_forecast.parquet', engine='pyarrow')"
   ]
  },
  {
   "cell_type": "code",
   "execution_count": 500,
   "metadata": {},
   "outputs": [],
   "source": [
    "# Ensure that the labels are in 15 minute resolution\n",
    "labels_index = pd.date_range(start=labels.index.min(), end=labels.index.max(), freq='15min')\n",
    "labels.index = labels_index"
   ]
  },
  {
   "cell_type": "code",
   "execution_count": 501,
   "metadata": {},
   "outputs": [],
   "source": [
    "# Add features -> part of day & Month\n",
    "# Could temperature play a part? Is it cooler in the evenings/night?  \n",
    "# Can the months represent seasons?    \n",
    "\n",
    "conditions = [(0 <= labels.index.hour) & (labels.index.hour < 6), \n",
    "            (6 <= labels.index.hour) & (labels.index.hour < 12), \n",
    "            (12 <= labels.index.hour) & (labels.index.hour < 18), \n",
    "            (18 <= labels.index.hour) & (labels.index.hour < 24)]\n",
    "choices = [0, 1, 2, 3]\n",
    "labels['Day_part'] = np.select(condlist=conditions, choicelist=choices, default=np.nan)\n",
    "labels['Month'] = labels.index.month\n",
    "labels = labels[['Day_part', 'Month', 'power']]"
   ]
  },
  {
   "cell_type": "code",
   "execution_count": 502,
   "metadata": {},
   "outputs": [
    {
     "data": {
      "text/html": [
       "<div>\n",
       "<style scoped>\n",
       "    .dataframe tbody tr th:only-of-type {\n",
       "        vertical-align: middle;\n",
       "    }\n",
       "\n",
       "    .dataframe tbody tr th {\n",
       "        vertical-align: top;\n",
       "    }\n",
       "\n",
       "    .dataframe thead th {\n",
       "        text-align: right;\n",
       "    }\n",
       "</style>\n",
       "<table border=\"1\" class=\"dataframe\">\n",
       "  <thead>\n",
       "    <tr style=\"text-align: right;\">\n",
       "      <th></th>\n",
       "      <th>Day_part</th>\n",
       "      <th>Month</th>\n",
       "      <th>power</th>\n",
       "    </tr>\n",
       "  </thead>\n",
       "  <tbody>\n",
       "    <tr>\n",
       "      <th>2019-01-01 00:00:00</th>\n",
       "      <td>0.0</td>\n",
       "      <td>1</td>\n",
       "      <td>48637.0</td>\n",
       "    </tr>\n",
       "    <tr>\n",
       "      <th>2019-01-01 00:15:00</th>\n",
       "      <td>0.0</td>\n",
       "      <td>1</td>\n",
       "      <td>52357.0</td>\n",
       "    </tr>\n",
       "    <tr>\n",
       "      <th>2019-01-01 00:30:00</th>\n",
       "      <td>0.0</td>\n",
       "      <td>1</td>\n",
       "      <td>54317.0</td>\n",
       "    </tr>\n",
       "    <tr>\n",
       "      <th>2019-01-01 00:45:00</th>\n",
       "      <td>0.0</td>\n",
       "      <td>1</td>\n",
       "      <td>54220.5</td>\n",
       "    </tr>\n",
       "    <tr>\n",
       "      <th>2019-01-01 01:00:00</th>\n",
       "      <td>0.0</td>\n",
       "      <td>1</td>\n",
       "      <td>51680.0</td>\n",
       "    </tr>\n",
       "  </tbody>\n",
       "</table>\n",
       "</div>"
      ],
      "text/plain": [
       "                     Day_part  Month    power\n",
       "2019-01-01 00:00:00       0.0      1  48637.0\n",
       "2019-01-01 00:15:00       0.0      1  52357.0\n",
       "2019-01-01 00:30:00       0.0      1  54317.0\n",
       "2019-01-01 00:45:00       0.0      1  54220.5\n",
       "2019-01-01 01:00:00       0.0      1  51680.0"
      ]
     },
     "execution_count": 502,
     "metadata": {},
     "output_type": "execute_result"
    }
   ],
   "source": [
    "labels.head()"
   ]
  },
  {
   "cell_type": "code",
   "execution_count": 503,
   "metadata": {},
   "outputs": [
    {
     "data": {
      "text/html": [
       "<div>\n",
       "<style scoped>\n",
       "    .dataframe tbody tr th:only-of-type {\n",
       "        vertical-align: middle;\n",
       "    }\n",
       "\n",
       "    .dataframe tbody tr th {\n",
       "        vertical-align: top;\n",
       "    }\n",
       "\n",
       "    .dataframe thead th {\n",
       "        text-align: right;\n",
       "    }\n",
       "</style>\n",
       "<table border=\"1\" class=\"dataframe\">\n",
       "  <thead>\n",
       "    <tr style=\"text-align: right;\">\n",
       "      <th></th>\n",
       "      <th>Generation_Date</th>\n",
       "      <th>Forecast_Date</th>\n",
       "      <th>U</th>\n",
       "      <th>V</th>\n",
       "      <th>ws</th>\n",
       "      <th>Direction</th>\n",
       "    </tr>\n",
       "  </thead>\n",
       "  <tbody>\n",
       "    <tr>\n",
       "      <th>1</th>\n",
       "      <td>2019-06-25</td>\n",
       "      <td>2019-06-25 01:00:00</td>\n",
       "      <td>1.861707</td>\n",
       "      <td>0.195582</td>\n",
       "      <td>1.871952</td>\n",
       "      <td>264.002783</td>\n",
       "    </tr>\n",
       "    <tr>\n",
       "      <th>2</th>\n",
       "      <td>2019-06-25</td>\n",
       "      <td>2019-06-25 02:00:00</td>\n",
       "      <td>1.257695</td>\n",
       "      <td>0.570511</td>\n",
       "      <td>1.381043</td>\n",
       "      <td>245.600179</td>\n",
       "    </tr>\n",
       "    <tr>\n",
       "      <th>3</th>\n",
       "      <td>2019-06-25</td>\n",
       "      <td>2019-06-25 03:00:00</td>\n",
       "      <td>1.883554</td>\n",
       "      <td>0.701067</td>\n",
       "      <td>2.009794</td>\n",
       "      <td>249.584514</td>\n",
       "    </tr>\n",
       "    <tr>\n",
       "      <th>4</th>\n",
       "      <td>2019-06-25</td>\n",
       "      <td>2019-06-25 04:00:00</td>\n",
       "      <td>2.664914</td>\n",
       "      <td>0.169917</td>\n",
       "      <td>2.670325</td>\n",
       "      <td>266.351713</td>\n",
       "    </tr>\n",
       "    <tr>\n",
       "      <th>5</th>\n",
       "      <td>2019-06-25</td>\n",
       "      <td>2019-06-25 05:00:00</td>\n",
       "      <td>2.855113</td>\n",
       "      <td>-0.255226</td>\n",
       "      <td>2.866498</td>\n",
       "      <td>275.108242</td>\n",
       "    </tr>\n",
       "  </tbody>\n",
       "</table>\n",
       "</div>"
      ],
      "text/plain": [
       "  Generation_Date       Forecast_Date         U         V        ws  \\\n",
       "1      2019-06-25 2019-06-25 01:00:00  1.861707  0.195582  1.871952   \n",
       "2      2019-06-25 2019-06-25 02:00:00  1.257695  0.570511  1.381043   \n",
       "3      2019-06-25 2019-06-25 03:00:00  1.883554  0.701067  2.009794   \n",
       "4      2019-06-25 2019-06-25 04:00:00  2.664914  0.169917  2.670325   \n",
       "5      2019-06-25 2019-06-25 05:00:00  2.855113 -0.255226  2.866498   \n",
       "\n",
       "    Direction  \n",
       "1  264.002783  \n",
       "2  245.600179  \n",
       "3  249.584514  \n",
       "4  266.351713  \n",
       "5  275.108242  "
      ]
     },
     "execution_count": 503,
     "metadata": {},
     "output_type": "execute_result"
    }
   ],
   "source": [
    "weather.head()"
   ]
  },
  {
   "cell_type": "code",
   "execution_count": 504,
   "metadata": {},
   "outputs": [],
   "source": [
    "# Drop Generation_Date and make Forecast_Date the index \n",
    "weather = weather.drop('Generation_Date', axis=1).set_index('Forecast_Date')"
   ]
  },
  {
   "cell_type": "code",
   "execution_count": 505,
   "metadata": {},
   "outputs": [
    {
     "data": {
      "text/html": [
       "<div>\n",
       "<style scoped>\n",
       "    .dataframe tbody tr th:only-of-type {\n",
       "        vertical-align: middle;\n",
       "    }\n",
       "\n",
       "    .dataframe tbody tr th {\n",
       "        vertical-align: top;\n",
       "    }\n",
       "\n",
       "    .dataframe thead th {\n",
       "        text-align: right;\n",
       "    }\n",
       "</style>\n",
       "<table border=\"1\" class=\"dataframe\">\n",
       "  <thead>\n",
       "    <tr style=\"text-align: right;\">\n",
       "      <th></th>\n",
       "      <th>U</th>\n",
       "      <th>V</th>\n",
       "      <th>ws</th>\n",
       "      <th>Direction</th>\n",
       "    </tr>\n",
       "    <tr>\n",
       "      <th>Forecast_Date</th>\n",
       "      <th></th>\n",
       "      <th></th>\n",
       "      <th></th>\n",
       "      <th></th>\n",
       "    </tr>\n",
       "  </thead>\n",
       "  <tbody>\n",
       "    <tr>\n",
       "      <th>2019-06-25 01:00:00</th>\n",
       "      <td>1.861707</td>\n",
       "      <td>0.195582</td>\n",
       "      <td>1.871952</td>\n",
       "      <td>264.002783</td>\n",
       "    </tr>\n",
       "    <tr>\n",
       "      <th>2019-06-25 02:00:00</th>\n",
       "      <td>1.257695</td>\n",
       "      <td>0.570511</td>\n",
       "      <td>1.381043</td>\n",
       "      <td>245.600179</td>\n",
       "    </tr>\n",
       "    <tr>\n",
       "      <th>2019-06-25 03:00:00</th>\n",
       "      <td>1.883554</td>\n",
       "      <td>0.701067</td>\n",
       "      <td>2.009794</td>\n",
       "      <td>249.584514</td>\n",
       "    </tr>\n",
       "    <tr>\n",
       "      <th>2019-06-25 04:00:00</th>\n",
       "      <td>2.664914</td>\n",
       "      <td>0.169917</td>\n",
       "      <td>2.670325</td>\n",
       "      <td>266.351713</td>\n",
       "    </tr>\n",
       "    <tr>\n",
       "      <th>2019-06-25 05:00:00</th>\n",
       "      <td>2.855113</td>\n",
       "      <td>-0.255226</td>\n",
       "      <td>2.866498</td>\n",
       "      <td>275.108242</td>\n",
       "    </tr>\n",
       "  </tbody>\n",
       "</table>\n",
       "</div>"
      ],
      "text/plain": [
       "                            U         V        ws   Direction\n",
       "Forecast_Date                                                \n",
       "2019-06-25 01:00:00  1.861707  0.195582  1.871952  264.002783\n",
       "2019-06-25 02:00:00  1.257695  0.570511  1.381043  245.600179\n",
       "2019-06-25 03:00:00  1.883554  0.701067  2.009794  249.584514\n",
       "2019-06-25 04:00:00  2.664914  0.169917  2.670325  266.351713\n",
       "2019-06-25 05:00:00  2.855113 -0.255226  2.866498  275.108242"
      ]
     },
     "execution_count": 505,
     "metadata": {},
     "output_type": "execute_result"
    }
   ],
   "source": [
    "weather.head()"
   ]
  },
  {
   "cell_type": "code",
   "execution_count": 506,
   "metadata": {},
   "outputs": [],
   "source": [
    "# Merge the labels and weather data\n",
    "data = pd.merge(left=labels, right=weather, left_index=True, right_index=True, how='left')"
   ]
  },
  {
   "cell_type": "code",
   "execution_count": 507,
   "metadata": {},
   "outputs": [
    {
     "data": {
      "text/html": [
       "<div>\n",
       "<style scoped>\n",
       "    .dataframe tbody tr th:only-of-type {\n",
       "        vertical-align: middle;\n",
       "    }\n",
       "\n",
       "    .dataframe tbody tr th {\n",
       "        vertical-align: top;\n",
       "    }\n",
       "\n",
       "    .dataframe thead th {\n",
       "        text-align: right;\n",
       "    }\n",
       "</style>\n",
       "<table border=\"1\" class=\"dataframe\">\n",
       "  <thead>\n",
       "    <tr style=\"text-align: right;\">\n",
       "      <th></th>\n",
       "      <th>Day_part</th>\n",
       "      <th>Month</th>\n",
       "      <th>power</th>\n",
       "      <th>U</th>\n",
       "      <th>V</th>\n",
       "      <th>ws</th>\n",
       "      <th>Direction</th>\n",
       "    </tr>\n",
       "  </thead>\n",
       "  <tbody>\n",
       "    <tr>\n",
       "      <th>2019-01-01 00:00:00</th>\n",
       "      <td>0.0</td>\n",
       "      <td>1</td>\n",
       "      <td>48637.0</td>\n",
       "      <td>NaN</td>\n",
       "      <td>NaN</td>\n",
       "      <td>NaN</td>\n",
       "      <td>NaN</td>\n",
       "    </tr>\n",
       "    <tr>\n",
       "      <th>2019-01-01 00:15:00</th>\n",
       "      <td>0.0</td>\n",
       "      <td>1</td>\n",
       "      <td>52357.0</td>\n",
       "      <td>NaN</td>\n",
       "      <td>NaN</td>\n",
       "      <td>NaN</td>\n",
       "      <td>NaN</td>\n",
       "    </tr>\n",
       "    <tr>\n",
       "      <th>2019-01-01 00:30:00</th>\n",
       "      <td>0.0</td>\n",
       "      <td>1</td>\n",
       "      <td>54317.0</td>\n",
       "      <td>NaN</td>\n",
       "      <td>NaN</td>\n",
       "      <td>NaN</td>\n",
       "      <td>NaN</td>\n",
       "    </tr>\n",
       "    <tr>\n",
       "      <th>2019-01-01 00:45:00</th>\n",
       "      <td>0.0</td>\n",
       "      <td>1</td>\n",
       "      <td>54220.5</td>\n",
       "      <td>NaN</td>\n",
       "      <td>NaN</td>\n",
       "      <td>NaN</td>\n",
       "      <td>NaN</td>\n",
       "    </tr>\n",
       "    <tr>\n",
       "      <th>2019-01-01 01:00:00</th>\n",
       "      <td>0.0</td>\n",
       "      <td>1</td>\n",
       "      <td>51680.0</td>\n",
       "      <td>NaN</td>\n",
       "      <td>NaN</td>\n",
       "      <td>NaN</td>\n",
       "      <td>NaN</td>\n",
       "    </tr>\n",
       "  </tbody>\n",
       "</table>\n",
       "</div>"
      ],
      "text/plain": [
       "                     Day_part  Month    power   U   V  ws  Direction\n",
       "2019-01-01 00:00:00       0.0      1  48637.0 NaN NaN NaN        NaN\n",
       "2019-01-01 00:15:00       0.0      1  52357.0 NaN NaN NaN        NaN\n",
       "2019-01-01 00:30:00       0.0      1  54317.0 NaN NaN NaN        NaN\n",
       "2019-01-01 00:45:00       0.0      1  54220.5 NaN NaN NaN        NaN\n",
       "2019-01-01 01:00:00       0.0      1  51680.0 NaN NaN NaN        NaN"
      ]
     },
     "execution_count": 507,
     "metadata": {},
     "output_type": "execute_result"
    }
   ],
   "source": [
    "data.head()"
   ]
  },
  {
   "cell_type": "code",
   "execution_count": 508,
   "metadata": {},
   "outputs": [],
   "source": [
    "# Keep values from the start date of weather \n",
    "data = data[np.where(data.index == weather.index.min())[0][0]:]"
   ]
  },
  {
   "cell_type": "code",
   "execution_count": 509,
   "metadata": {},
   "outputs": [
    {
     "data": {
      "text/html": [
       "<div>\n",
       "<style scoped>\n",
       "    .dataframe tbody tr th:only-of-type {\n",
       "        vertical-align: middle;\n",
       "    }\n",
       "\n",
       "    .dataframe tbody tr th {\n",
       "        vertical-align: top;\n",
       "    }\n",
       "\n",
       "    .dataframe thead th {\n",
       "        text-align: right;\n",
       "    }\n",
       "</style>\n",
       "<table border=\"1\" class=\"dataframe\">\n",
       "  <thead>\n",
       "    <tr style=\"text-align: right;\">\n",
       "      <th></th>\n",
       "      <th>Day_part</th>\n",
       "      <th>Month</th>\n",
       "      <th>power</th>\n",
       "      <th>U</th>\n",
       "      <th>V</th>\n",
       "      <th>ws</th>\n",
       "      <th>Direction</th>\n",
       "    </tr>\n",
       "  </thead>\n",
       "  <tbody>\n",
       "    <tr>\n",
       "      <th>2019-06-25 01:00:00</th>\n",
       "      <td>0.0</td>\n",
       "      <td>6</td>\n",
       "      <td>4686.2</td>\n",
       "      <td>1.861707</td>\n",
       "      <td>0.195582</td>\n",
       "      <td>1.871952</td>\n",
       "      <td>264.002783</td>\n",
       "    </tr>\n",
       "    <tr>\n",
       "      <th>2019-06-25 01:15:00</th>\n",
       "      <td>0.0</td>\n",
       "      <td>6</td>\n",
       "      <td>4047.9</td>\n",
       "      <td>NaN</td>\n",
       "      <td>NaN</td>\n",
       "      <td>NaN</td>\n",
       "      <td>NaN</td>\n",
       "    </tr>\n",
       "    <tr>\n",
       "      <th>2019-06-25 01:30:00</th>\n",
       "      <td>0.0</td>\n",
       "      <td>6</td>\n",
       "      <td>3251.0</td>\n",
       "      <td>NaN</td>\n",
       "      <td>NaN</td>\n",
       "      <td>NaN</td>\n",
       "      <td>NaN</td>\n",
       "    </tr>\n",
       "    <tr>\n",
       "      <th>2019-06-25 01:45:00</th>\n",
       "      <td>0.0</td>\n",
       "      <td>6</td>\n",
       "      <td>2244.5</td>\n",
       "      <td>NaN</td>\n",
       "      <td>NaN</td>\n",
       "      <td>NaN</td>\n",
       "      <td>NaN</td>\n",
       "    </tr>\n",
       "    <tr>\n",
       "      <th>2019-06-25 02:00:00</th>\n",
       "      <td>0.0</td>\n",
       "      <td>6</td>\n",
       "      <td>2224.6</td>\n",
       "      <td>1.257695</td>\n",
       "      <td>0.570511</td>\n",
       "      <td>1.381043</td>\n",
       "      <td>245.600179</td>\n",
       "    </tr>\n",
       "  </tbody>\n",
       "</table>\n",
       "</div>"
      ],
      "text/plain": [
       "                     Day_part  Month   power         U         V        ws  \\\n",
       "2019-06-25 01:00:00       0.0      6  4686.2  1.861707  0.195582  1.871952   \n",
       "2019-06-25 01:15:00       0.0      6  4047.9       NaN       NaN       NaN   \n",
       "2019-06-25 01:30:00       0.0      6  3251.0       NaN       NaN       NaN   \n",
       "2019-06-25 01:45:00       0.0      6  2244.5       NaN       NaN       NaN   \n",
       "2019-06-25 02:00:00       0.0      6  2224.6  1.257695  0.570511  1.381043   \n",
       "\n",
       "                      Direction  \n",
       "2019-06-25 01:00:00  264.002783  \n",
       "2019-06-25 01:15:00         NaN  \n",
       "2019-06-25 01:30:00         NaN  \n",
       "2019-06-25 01:45:00         NaN  \n",
       "2019-06-25 02:00:00  245.600179  "
      ]
     },
     "execution_count": 509,
     "metadata": {},
     "output_type": "execute_result"
    }
   ],
   "source": [
    "data.head()"
   ]
  },
  {
   "cell_type": "code",
   "execution_count": 510,
   "metadata": {},
   "outputs": [],
   "source": [
    "# Fill the hourly values forward to quarter hour \n",
    "data['U'] = data['U'].fillna(method='ffill')\n",
    "data['V'] = data['V'].fillna(method='ffill')\n",
    "data['ws'] = data['ws'].fillna(method='ffill')\n",
    "data['Direction'] = data['Direction'].fillna(method='ffill')"
   ]
  },
  {
   "cell_type": "code",
   "execution_count": 511,
   "metadata": {},
   "outputs": [],
   "source": [
    "# Rearrange so that power is the last column\n",
    "data = data[['Day_part', 'Month', 'U', 'V', 'ws', 'Direction', 'power']]"
   ]
  },
  {
   "cell_type": "code",
   "execution_count": 512,
   "metadata": {},
   "outputs": [
    {
     "data": {
      "text/html": [
       "<div>\n",
       "<style scoped>\n",
       "    .dataframe tbody tr th:only-of-type {\n",
       "        vertical-align: middle;\n",
       "    }\n",
       "\n",
       "    .dataframe tbody tr th {\n",
       "        vertical-align: top;\n",
       "    }\n",
       "\n",
       "    .dataframe thead th {\n",
       "        text-align: right;\n",
       "    }\n",
       "</style>\n",
       "<table border=\"1\" class=\"dataframe\">\n",
       "  <thead>\n",
       "    <tr style=\"text-align: right;\">\n",
       "      <th></th>\n",
       "      <th>Day_part</th>\n",
       "      <th>Month</th>\n",
       "      <th>U</th>\n",
       "      <th>V</th>\n",
       "      <th>ws</th>\n",
       "      <th>Direction</th>\n",
       "      <th>power</th>\n",
       "    </tr>\n",
       "  </thead>\n",
       "  <tbody>\n",
       "    <tr>\n",
       "      <th>2019-06-25 01:00:00</th>\n",
       "      <td>0.0</td>\n",
       "      <td>6</td>\n",
       "      <td>1.861707</td>\n",
       "      <td>0.195582</td>\n",
       "      <td>1.871952</td>\n",
       "      <td>264.002783</td>\n",
       "      <td>4686.2</td>\n",
       "    </tr>\n",
       "    <tr>\n",
       "      <th>2019-06-25 01:15:00</th>\n",
       "      <td>0.0</td>\n",
       "      <td>6</td>\n",
       "      <td>1.861707</td>\n",
       "      <td>0.195582</td>\n",
       "      <td>1.871952</td>\n",
       "      <td>264.002783</td>\n",
       "      <td>4047.9</td>\n",
       "    </tr>\n",
       "    <tr>\n",
       "      <th>2019-06-25 01:30:00</th>\n",
       "      <td>0.0</td>\n",
       "      <td>6</td>\n",
       "      <td>1.861707</td>\n",
       "      <td>0.195582</td>\n",
       "      <td>1.871952</td>\n",
       "      <td>264.002783</td>\n",
       "      <td>3251.0</td>\n",
       "    </tr>\n",
       "    <tr>\n",
       "      <th>2019-06-25 01:45:00</th>\n",
       "      <td>0.0</td>\n",
       "      <td>6</td>\n",
       "      <td>1.861707</td>\n",
       "      <td>0.195582</td>\n",
       "      <td>1.871952</td>\n",
       "      <td>264.002783</td>\n",
       "      <td>2244.5</td>\n",
       "    </tr>\n",
       "    <tr>\n",
       "      <th>2019-06-25 02:00:00</th>\n",
       "      <td>0.0</td>\n",
       "      <td>6</td>\n",
       "      <td>1.257695</td>\n",
       "      <td>0.570511</td>\n",
       "      <td>1.381043</td>\n",
       "      <td>245.600179</td>\n",
       "      <td>2224.6</td>\n",
       "    </tr>\n",
       "  </tbody>\n",
       "</table>\n",
       "</div>"
      ],
      "text/plain": [
       "                     Day_part  Month         U         V        ws  \\\n",
       "2019-06-25 01:00:00       0.0      6  1.861707  0.195582  1.871952   \n",
       "2019-06-25 01:15:00       0.0      6  1.861707  0.195582  1.871952   \n",
       "2019-06-25 01:30:00       0.0      6  1.861707  0.195582  1.871952   \n",
       "2019-06-25 01:45:00       0.0      6  1.861707  0.195582  1.871952   \n",
       "2019-06-25 02:00:00       0.0      6  1.257695  0.570511  1.381043   \n",
       "\n",
       "                      Direction   power  \n",
       "2019-06-25 01:00:00  264.002783  4686.2  \n",
       "2019-06-25 01:15:00  264.002783  4047.9  \n",
       "2019-06-25 01:30:00  264.002783  3251.0  \n",
       "2019-06-25 01:45:00  264.002783  2244.5  \n",
       "2019-06-25 02:00:00  245.600179  2224.6  "
      ]
     },
     "execution_count": 512,
     "metadata": {},
     "output_type": "execute_result"
    }
   ],
   "source": [
    "data.head()"
   ]
  },
  {
   "cell_type": "markdown",
   "metadata": {},
   "source": [
    "#### Use Random Forest Regression to impute missing power values"
   ]
  },
  {
   "cell_type": "code",
   "execution_count": 513,
   "metadata": {},
   "outputs": [
    {
     "data": {
      "text/plain": [
       "Day_part       0\n",
       "Month          0\n",
       "U              0\n",
       "V              0\n",
       "ws             0\n",
       "Direction      0\n",
       "power        341\n",
       "dtype: int64"
      ]
     },
     "execution_count": 513,
     "metadata": {},
     "output_type": "execute_result"
    }
   ],
   "source": [
    "# Check for missing values\n",
    "data.isna().sum()"
   ]
  },
  {
   "cell_type": "code",
   "execution_count": 514,
   "metadata": {},
   "outputs": [],
   "source": [
    "rf_data = data[data['power'].notnull()] # Data with no missing values -> use this to train model\n",
    "rf_data_inputs = rf_data.drop(['power'], axis=1)\n",
    "rf_data_labels = rf_data['power']"
   ]
  },
  {
   "cell_type": "code",
   "execution_count": 515,
   "metadata": {},
   "outputs": [],
   "source": [
    "from sklearn.model_selection import train_test_split\n",
    "from sklearn.ensemble import RandomForestRegressor"
   ]
  },
  {
   "cell_type": "code",
   "execution_count": 516,
   "metadata": {},
   "outputs": [],
   "source": [
    "X_train, X_test, y_train, y_test = train_test_split(rf_data_inputs, rf_data_labels, test_size=0.20)"
   ]
  },
  {
   "cell_type": "code",
   "execution_count": 517,
   "metadata": {},
   "outputs": [
    {
     "data": {
      "text/plain": [
       "0.9682297631087473"
      ]
     },
     "execution_count": 517,
     "metadata": {},
     "output_type": "execute_result"
    }
   ],
   "source": [
    "rf_model = RandomForestRegressor(n_estimators=50)\n",
    "rf_model.fit(X_train, y_train)\n",
    "rf_model.score(X_test, y_test)"
   ]
  },
  {
   "cell_type": "code",
   "execution_count": 518,
   "metadata": {},
   "outputs": [],
   "source": [
    "# Get the values that are missing\n",
    "pred_data = data[data['power'].isnull()].drop(['power'], axis=1)"
   ]
  },
  {
   "cell_type": "code",
   "execution_count": 519,
   "metadata": {},
   "outputs": [],
   "source": [
    "predictions = rf_model.predict(pred_data)"
   ]
  },
  {
   "cell_type": "code",
   "execution_count": 520,
   "metadata": {},
   "outputs": [],
   "source": [
    "# Replace the missing data with the predicted values\n",
    "col = data.columns.get_loc('power')\n",
    "for row, val in zip(np.where(data['power'].isnull())[0], predictions):\n",
    "    data.iloc[row,col] = val"
   ]
  },
  {
   "cell_type": "code",
   "execution_count": 521,
   "metadata": {},
   "outputs": [
    {
     "data": {
      "text/plain": [
       "Day_part     0\n",
       "Month        0\n",
       "U            0\n",
       "V            0\n",
       "ws           0\n",
       "Direction    0\n",
       "power        0\n",
       "dtype: int64"
      ]
     },
     "execution_count": 521,
     "metadata": {},
     "output_type": "execute_result"
    }
   ],
   "source": [
    "data.isnull().sum()"
   ]
  },
  {
   "cell_type": "markdown",
   "metadata": {},
   "source": [
    "### Model building"
   ]
  },
  {
   "cell_type": "code",
   "execution_count": 522,
   "metadata": {},
   "outputs": [],
   "source": [
    "np.set_printoptions(suppress=True)"
   ]
  },
  {
   "cell_type": "code",
   "execution_count": 523,
   "metadata": {},
   "outputs": [],
   "source": [
    "# Date to split the training and testing\n",
    "index_1Aug2020 = np.where(data.index == '2020-08-01 00:00:00')[0][0] \n",
    "\n",
    "training_data = data[:index_1Aug2020] \n",
    "testing_data = data[index_1Aug2020:]"
   ]
  },
  {
   "cell_type": "code",
   "execution_count": 524,
   "metadata": {},
   "outputs": [],
   "source": [
    "# Ensure that training data starts at 00:15:00 and ends at 00:00:00\n",
    "training_data = training_data.loc['2019-06-26 00:15:00':'2020-07-30 00:00:00'].values "
   ]
  },
  {
   "cell_type": "code",
   "execution_count": 525,
   "metadata": {},
   "outputs": [
    {
     "data": {
      "text/plain": [
       "(400, 96, 7)"
      ]
     },
     "execution_count": 525,
     "metadata": {},
     "output_type": "execute_result"
    }
   ],
   "source": [
    "# Split the training data into chunks of 96\n",
    "X = np.array(np.split(training_data, training_data.shape[0]//96))\n",
    "X.shape"
   ]
  },
  {
   "cell_type": "code",
   "execution_count": 526,
   "metadata": {},
   "outputs": [
    {
     "data": {
      "text/plain": [
       "(399, 96)"
      ]
     },
     "execution_count": 526,
     "metadata": {},
     "output_type": "execute_result"
    }
   ],
   "source": [
    "# Use the last column in the training data as the labels - except for the first instance\n",
    "y = np.array([i[:,-1] for i in X[1:]])\n",
    "y.shape"
   ]
  },
  {
   "cell_type": "code",
   "execution_count": 527,
   "metadata": {},
   "outputs": [
    {
     "data": {
      "text/plain": [
       "(399, 96, 7)"
      ]
     },
     "execution_count": 527,
     "metadata": {},
     "output_type": "execute_result"
    }
   ],
   "source": [
    "# Delete the last X array -> make X & y the same size\n",
    "X = X[:-1]\n",
    "X.shape"
   ]
  },
  {
   "cell_type": "code",
   "execution_count": 528,
   "metadata": {},
   "outputs": [
    {
     "data": {
      "text/plain": [
       "(399, 672)"
      ]
     },
     "execution_count": 528,
     "metadata": {},
     "output_type": "execute_result"
    }
   ],
   "source": [
    "# Flatten X\n",
    "n_input = X.shape[1] * X.shape[2]\n",
    "X = X.reshape((X.shape[0], n_input))\n",
    "X.shape "
   ]
  },
  {
   "cell_type": "code",
   "execution_count": 529,
   "metadata": {},
   "outputs": [],
   "source": [
    "# Set the output dimension\n",
    "n_output = y.shape[1]"
   ]
  },
  {
   "cell_type": "code",
   "execution_count": 530,
   "metadata": {},
   "outputs": [],
   "source": [
    "# Train test split approx 20%\n",
    "X_train = X[:320]\n",
    "X_test = X[320:]\n",
    "y_train = y[:320]\n",
    "y_test = y[320:]"
   ]
  },
  {
   "cell_type": "code",
   "execution_count": 531,
   "metadata": {},
   "outputs": [],
   "source": [
    "from sklearn.preprocessing import MinMaxScaler\n",
    "sc_X = MinMaxScaler(feature_range=(0, 1))\n",
    "sc_Y = MinMaxScaler(feature_range=(0, 1))"
   ]
  },
  {
   "cell_type": "code",
   "execution_count": 532,
   "metadata": {},
   "outputs": [],
   "source": [
    "# Normalize the data\n",
    "X_train = sc_X.fit_transform(X_train)\n",
    "X_test = sc_X.transform(X_test)\n",
    "y_train = sc_Y.fit_transform(y_train)\n",
    "y_test = sc_Y.transform(y_test)"
   ]
  },
  {
   "cell_type": "code",
   "execution_count": 533,
   "metadata": {},
   "outputs": [],
   "source": [
    "from keras.models import Sequential\n",
    "from keras.layers import Dense\n",
    "from keras.layers import Dropout"
   ]
  },
  {
   "cell_type": "code",
   "execution_count": 534,
   "metadata": {},
   "outputs": [
    {
     "name": "stdout",
     "output_type": "stream",
     "text": [
      "Epoch 1/20\n",
      "320/320 [==============================] - 4s 6ms/step - loss: 0.0446\n",
      "Epoch 2/20\n",
      "320/320 [==============================] - 2s 6ms/step - loss: 0.0319\n",
      "Epoch 3/20\n",
      "320/320 [==============================] - 2s 5ms/step - loss: 0.0286\n",
      "Epoch 4/20\n",
      "320/320 [==============================] - 2s 6ms/step - loss: 0.0296\n",
      "Epoch 5/20\n",
      "320/320 [==============================] - 2s 6ms/step - loss: 0.0285\n",
      "Epoch 6/20\n",
      "320/320 [==============================] - 2s 6ms/step - loss: 0.0269\n",
      "Epoch 7/20\n",
      "320/320 [==============================] - 2s 6ms/step - loss: 0.0262\n",
      "Epoch 8/20\n",
      "320/320 [==============================] - 2s 6ms/step - loss: 0.0259\n",
      "Epoch 9/20\n",
      "320/320 [==============================] - 2s 6ms/step - loss: 0.0280\n",
      "Epoch 10/20\n",
      "320/320 [==============================] - 2s 7ms/step - loss: 0.0245\n",
      "Epoch 11/20\n",
      "320/320 [==============================] - 2s 6ms/step - loss: 0.0264\n",
      "Epoch 12/20\n",
      "320/320 [==============================] - 2s 6ms/step - loss: 0.0260\n",
      "Epoch 13/20\n",
      "320/320 [==============================] - 2s 6ms/step - loss: 0.0244\n",
      "Epoch 14/20\n",
      "320/320 [==============================] - 2s 6ms/step - loss: 0.0243\n",
      "Epoch 15/20\n",
      "320/320 [==============================] - 2s 6ms/step - loss: 0.0245\n",
      "Epoch 16/20\n",
      "320/320 [==============================] - 2s 6ms/step - loss: 0.0232\n",
      "Epoch 17/20\n",
      "320/320 [==============================] - 2s 7ms/step - loss: 0.0235\n",
      "Epoch 18/20\n",
      "320/320 [==============================] - 2s 7ms/step - loss: 0.0235\n",
      "Epoch 19/20\n",
      "320/320 [==============================] - 2s 7ms/step - loss: 0.0229\n",
      "Epoch 20/20\n",
      "320/320 [==============================] - 2s 7ms/step - loss: 0.0231\n"
     ]
    },
    {
     "data": {
      "text/plain": [
       "<keras.callbacks.History at 0x16295e6ce20>"
      ]
     },
     "execution_count": 534,
     "metadata": {},
     "output_type": "execute_result"
    }
   ],
   "source": [
    "# Build a MLP \n",
    "# Use dropout layer to prevent over-fitting\n",
    "model = Sequential()\n",
    "model.add(Dense(200, activation='relu', input_dim=n_input))\n",
    "model.add(Dropout(0.2))\n",
    "model.add(Dense(200, activation='relu'))\n",
    "model.add(Dense(n_output))\n",
    "model.compile(loss='mse', optimizer='adam')\n",
    "model.fit(X_train, y_train, epochs=20, batch_size=1, verbose=1)"
   ]
  },
  {
   "cell_type": "code",
   "execution_count": 535,
   "metadata": {},
   "outputs": [
    {
     "name": "stdout",
     "output_type": "stream",
     "text": [
      "3/3 [==============================] - 0s 9ms/step\n"
     ]
    }
   ],
   "source": [
    "# Make predictions on X_test\n",
    "testPredict = model.predict(X_test)"
   ]
  },
  {
   "cell_type": "code",
   "execution_count": 536,
   "metadata": {},
   "outputs": [],
   "source": [
    "# Inverse the normalization\n",
    "testPredict = sc_Y.inverse_transform(testPredict)\n",
    "y_test = sc_Y.inverse_transform(y_test)"
   ]
  },
  {
   "cell_type": "code",
   "execution_count": 537,
   "metadata": {},
   "outputs": [],
   "source": [
    "def norm_mean_abs_error(y_true, y_pred):\n",
    "    ''' Custom loss function '''\n",
    "    return 100*((np.sum(np.abs(y_true - y_pred))/y_true.size)/106400)"
   ]
  },
  {
   "cell_type": "code",
   "execution_count": 538,
   "metadata": {},
   "outputs": [
    {
     "data": {
      "text/plain": [
       "9.86778227704991"
      ]
     },
     "execution_count": 538,
     "metadata": {},
     "output_type": "execute_result"
    }
   ],
   "source": [
    "norm_mean_abs_error(y_test, testPredict)"
   ]
  },
  {
   "cell_type": "markdown",
   "metadata": {},
   "source": [
    "## Make predictions on the testing data"
   ]
  },
  {
   "cell_type": "code",
   "execution_count": 539,
   "metadata": {},
   "outputs": [],
   "source": [
    "# Drop the first instance and split the test data into chunks of 96\n",
    "test_data = testing_data[1:].values\n",
    "test_data_split = np.array(np.split(test_data , test_data.shape[0]//96))"
   ]
  },
  {
   "cell_type": "code",
   "execution_count": 540,
   "metadata": {},
   "outputs": [
    {
     "data": {
      "text/plain": [
       "(91, 96, 7)"
      ]
     },
     "execution_count": 540,
     "metadata": {},
     "output_type": "execute_result"
    }
   ],
   "source": [
    "test_data_split.shape"
   ]
  },
  {
   "cell_type": "code",
   "execution_count": 541,
   "metadata": {},
   "outputs": [
    {
     "data": {
      "text/plain": [
       "(91, 672)"
      ]
     },
     "execution_count": 541,
     "metadata": {},
     "output_type": "execute_result"
    }
   ],
   "source": [
    "# Flatten test_data_split\n",
    "n_input2 = test_data_split.shape[1] * test_data_split.shape[2]\n",
    "test_data_flat = test_data_split.reshape((test_data_split.shape[0], n_input2))\n",
    "test_data_flat.shape"
   ]
  },
  {
   "cell_type": "code",
   "execution_count": 542,
   "metadata": {},
   "outputs": [],
   "source": [
    "# Normalize the data\n",
    "scaler_test = MinMaxScaler(feature_range=(0, 1))\n",
    "test_data_scaled = sc_X.fit_transform(test_data_flat)"
   ]
  },
  {
   "cell_type": "code",
   "execution_count": 543,
   "metadata": {},
   "outputs": [
    {
     "name": "stdout",
     "output_type": "stream",
     "text": [
      "3/3 [==============================] - 0s 9ms/step\n"
     ]
    }
   ],
   "source": [
    "# Make predictions using the pre-trained model\n",
    "yhat = model.predict(test_data_scaled)"
   ]
  },
  {
   "cell_type": "code",
   "execution_count": 544,
   "metadata": {},
   "outputs": [
    {
     "data": {
      "text/plain": [
       "(91, 96)"
      ]
     },
     "execution_count": 544,
     "metadata": {},
     "output_type": "execute_result"
    }
   ],
   "source": [
    "# Inverse the normalization\n",
    "yhat_invTrs = sc_Y.inverse_transform(yhat)\n",
    "yhat_invTrs.shape"
   ]
  },
  {
   "cell_type": "code",
   "execution_count": 545,
   "metadata": {},
   "outputs": [],
   "source": [
    "# Flatten the data \n",
    "yhat_flat = yhat_invTrs.flatten()"
   ]
  },
  {
   "cell_type": "code",
   "execution_count": 546,
   "metadata": {},
   "outputs": [
    {
     "data": {
      "text/plain": [
       "(8736, 1)"
      ]
     },
     "execution_count": 546,
     "metadata": {},
     "output_type": "execute_result"
    }
   ],
   "source": [
    "# Create a dataframe\n",
    "yhat_df = pd.DataFrame(yhat_flat,columns=['yhat'])\n",
    "yhat_df.shape"
   ]
  },
  {
   "cell_type": "code",
   "execution_count": 547,
   "metadata": {},
   "outputs": [],
   "source": [
    "# Create another dataframe with the power values and add the yhat predictions\n",
    "y_yhat_df = pd.DataFrame(columns=['power'], index=testing_data.index)\n",
    "y_yhat_df['power'] = testing_data['power'].values\n",
    "y_yhat_df = y_yhat_df.iloc[1:]\n",
    "y_yhat_df['yhat'] = yhat_df['yhat'].values"
   ]
  },
  {
   "cell_type": "code",
   "execution_count": 548,
   "metadata": {},
   "outputs": [
    {
     "data": {
      "text/plain": [
       "<AxesSubplot:title={'center':'Actual vs Predicted'}>"
      ]
     },
     "execution_count": 548,
     "metadata": {},
     "output_type": "execute_result"
    },
    {
     "data": {
      "image/png": "[encoded data removed]",
      "text/plain": [
       "<Figure size 864x432 with 1 Axes>"
      ]
     },
     "metadata": {
      "needs_background": "light"
     },
     "output_type": "display_data"
    }
   ],
   "source": [
    "# Vizualise the actual vs predicted data\n",
    "y_yhat_df.plot(figsize=(12,6), title='Actual vs Predicted')"
   ]
  },
  {
   "cell_type": "code",
   "execution_count": 549,
   "metadata": {},
   "outputs": [
    {
     "data": {
      "text/plain": [
       "9.583487680907908"
      ]
     },
     "execution_count": 549,
     "metadata": {},
     "output_type": "execute_result"
    }
   ],
   "source": [
    "# Calculate the NMAE% \n",
    "norm_mean_abs_error(y_true=y_yhat_df['power'].values, y_pred=y_yhat_df['yhat'].values)"
   ]
  },
  {
   "cell_type": "markdown",
   "metadata": {},
   "source": [
    "## Next steps"
   ]
  },
  {
   "cell_type": "markdown",
   "metadata": {},
   "source": [
    "* Are months and parts of the day ordinal or categorical data?<br>\n",
    "    * Approach for cyclic ordinal data: __[cyclic_ordinal_link](https://datascience.stackexchange.com/questions/5990/what-is-a-good-way-to-transform-cyclic-ordinal-attributes)__  \n",
    "* Instead of MSE use the NMAE% loss metric as a custom loss function using Keras backend __[custom_loss_link]( https://stackoverflow.com/questions/43818584/custom-loss-function-in-keras)__\n",
    "* Hyper-parameter optimization: \n",
    "    * How to determine the number of layers, the neurons in the layers, drop-outs and activations. We can use a discrete optimization algorithm to try various combinations. The fitness function (accuracy, overfitting) will need to be defined and should be measurable. More thorough than Grid Search or Random search but can lead to complicated models.    \n",
    "    * Optimize weights to reduce training time: Use this approach __[PSO_SGD_link](https://arxiv.org/pdf/2205.10456)__ : where SGD and PSO algorithm are used together to yield better values\n",
    "* Generate more features: \n",
    "    * What is the “Precision Interval of Wind Power” __[PIWP_link](https://www.sciencedirect.com/science/article/pii/S1568494619303308)__?"
   ]
  },
  {
   "cell_type": "code",
   "execution_count": null,
   "metadata": {},
   "outputs": [],
   "source": []
  }
 ],
 "metadata": {
  "kernelspec": {
   "display_name": "Python 3.10.4 ('env': venv)",
   "language": "python",
   "name": "python3"
  },
  "language_info": {
   "codemirror_mode": {
    "name": "ipython",
    "version": 3
   },
   "file_extension": ".py",
   "mimetype": "text/x-python",
   "name": "python",
   "nbconvert_exporter": "python",
   "pygments_lexer": "ipython3",
   "version": "3.10.4"
  },
  "orig_nbformat": 4,
  "vscode": {
   "interpreter": {
    "hash": "9caa281ebeb769b9d8f87ec84c8c596a157648216885e09be5c1427422d5d8cd"
   }
  }
 },
 "nbformat": 4,
 "nbformat_minor": 2
}
